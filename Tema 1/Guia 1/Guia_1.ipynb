{
 "cells": [
  {
   "cell_type": "markdown",
   "metadata": {},
   "source": [
    "# <center>Electiva Aprendizaje automático</center>\n",
    "\n",
    "# <center>Maestría en Gestión de Tecnologías de Información y Conocimiento</center>\n",
    "\n",
    "# <center>Facultad de Ingeniería</center>\n",
    "# <center>Universidad de Nariño</center>"
   ]
  },
  {
   "cell_type": "code",
   "execution_count": 18,
   "metadata": {},
   "outputs": [],
   "source": [
    "import pandas as pd"
   ]
  },
  {
   "cell_type": "markdown",
   "metadata": {},
   "source": [
    "1) Lea únicamente los valores numéricos del archivo “Adult_Parte1.xlsx” y guárdelos en un\n",
    "dataframe de Pandas llamado X"
   ]
  },
  {
   "cell_type": "code",
   "execution_count": 19,
   "metadata": {},
   "outputs": [
    {
     "data": {
      "text/html": [
       "<div>\n",
       "<style scoped>\n",
       "    .dataframe tbody tr th:only-of-type {\n",
       "        vertical-align: middle;\n",
       "    }\n",
       "\n",
       "    .dataframe tbody tr th {\n",
       "        vertical-align: top;\n",
       "    }\n",
       "\n",
       "    .dataframe thead th {\n",
       "        text-align: right;\n",
       "    }\n",
       "</style>\n",
       "<table border=\"1\" class=\"dataframe\">\n",
       "  <thead>\n",
       "    <tr style=\"text-align: right;\">\n",
       "      <th></th>\n",
       "      <th>Edad</th>\n",
       "      <th>Nivel Educativo (máximo valor = postgrado)</th>\n",
       "      <th>Hs.que trabaja x semana</th>\n",
       "      <th>Gana más de 50K anuales? (1=si)</th>\n",
       "    </tr>\n",
       "  </thead>\n",
       "  <tbody>\n",
       "    <tr>\n",
       "      <th>0</th>\n",
       "      <td>36</td>\n",
       "      <td>13</td>\n",
       "      <td>55</td>\n",
       "      <td>1</td>\n",
       "    </tr>\n",
       "    <tr>\n",
       "      <th>1</th>\n",
       "      <td>29</td>\n",
       "      <td>13</td>\n",
       "      <td>50</td>\n",
       "      <td>1</td>\n",
       "    </tr>\n",
       "    <tr>\n",
       "      <th>2</th>\n",
       "      <td>34</td>\n",
       "      <td>11</td>\n",
       "      <td>32</td>\n",
       "      <td>1</td>\n",
       "    </tr>\n",
       "    <tr>\n",
       "      <th>3</th>\n",
       "      <td>33</td>\n",
       "      <td>13</td>\n",
       "      <td>25</td>\n",
       "      <td>1</td>\n",
       "    </tr>\n",
       "    <tr>\n",
       "      <th>4</th>\n",
       "      <td>30</td>\n",
       "      <td>10</td>\n",
       "      <td>45</td>\n",
       "      <td>0</td>\n",
       "    </tr>\n",
       "  </tbody>\n",
       "</table>\n",
       "</div>"
      ],
      "text/plain": [
       "   Edad  Nivel Educativo (máximo valor = postgrado)  Hs.que trabaja x semana  \\\n",
       "0    36                                          13                       55   \n",
       "1    29                                          13                       50   \n",
       "2    34                                          11                       32   \n",
       "3    33                                          13                       25   \n",
       "4    30                                          10                       45   \n",
       "\n",
       "   Gana más de 50K anuales? (1=si)  \n",
       "0                                1  \n",
       "1                                1  \n",
       "2                                1  \n",
       "3                                1  \n",
       "4                                0  "
      ]
     },
     "execution_count": 19,
     "metadata": {},
     "output_type": "execute_result"
    }
   ],
   "source": [
    "X=pd.read_excel(\"./Adult_Parte1.xlsx\")\n",
    "X.head()"
   ]
  },
  {
   "cell_type": "markdown",
   "metadata": {},
   "source": [
    "2) Obtenga el tamaño de ‘X’ en cantidad de filas y columnas."
   ]
  },
  {
   "cell_type": "code",
   "execution_count": 20,
   "metadata": {},
   "outputs": [
    {
     "name": "stdout",
     "output_type": "stream",
     "text": [
      "(11029, 4)\n"
     ]
    }
   ],
   "source": [
    "print(X.shape)"
   ]
  },
  {
   "cell_type": "markdown",
   "metadata": {},
   "source": [
    "3) Calcule el valor mínimo de cada columna de ‘X’."
   ]
  },
  {
   "cell_type": "code",
   "execution_count": 21,
   "metadata": {},
   "outputs": [
    {
     "name": "stdout",
     "output_type": "stream",
     "text": [
      "Edad                                          int64\n",
      "Nivel Educativo (máximo valor = postgrado)    int64\n",
      "Hs.que trabaja x semana                       int64\n",
      "Gana más de 50K anuales? (1=si)               int64\n",
      "dtype: object\n",
      "Edad mínimo: 17\n",
      "Nivel Educativo mínimo: 1\n",
      "Horas por semana mínimo: 1\n"
     ]
    }
   ],
   "source": [
    "print(X.dtypes)\n",
    "print(\"Edad mínimo:\",X.Edad.min())\n",
    "print(\"Nivel Educativo mínimo:\",X[\"Nivel Educativo (máximo valor = postgrado)\"].min())\n",
    "print(\"Horas por semana mínimo:\",X[\"Hs.que trabaja x semana\"].min())"
   ]
  },
  {
   "cell_type": "code",
   "execution_count": 22,
   "metadata": {},
   "outputs": [
    {
     "data": {
      "text/plain": [
       "Edad                                          17\n",
       "Nivel Educativo (máximo valor = postgrado)     1\n",
       "Hs.que trabaja x semana                        1\n",
       "Gana más de 50K anuales? (1=si)                0\n",
       "dtype: int64"
      ]
     },
     "execution_count": 22,
     "metadata": {},
     "output_type": "execute_result"
    }
   ],
   "source": [
    "X.min()"
   ]
  },
  {
   "cell_type": "markdown",
   "metadata": {},
   "source": [
    "4) Ahora obtenga el máximo, pero por cada fila."
   ]
  },
  {
   "cell_type": "code",
   "execution_count": 23,
   "metadata": {},
   "outputs": [
    {
     "data": {
      "text/plain": [
       "0        55\n",
       "1        50\n",
       "2        34\n",
       "3        33\n",
       "4        45\n",
       "         ..\n",
       "11024    50\n",
       "11025    55\n",
       "11026    50\n",
       "11027    60\n",
       "11028    43\n",
       "Length: 11029, dtype: int64"
      ]
     },
     "execution_count": 23,
     "metadata": {},
     "output_type": "execute_result"
    }
   ],
   "source": [
    "X.transpose().max()"
   ]
  },
  {
   "cell_type": "markdown",
   "metadata": {},
   "source": [
    "5) Realice una escala lineal de ‘X’ por columna. Para esto deberá a cada valor, restarle el\n",
    "mínimo de la columna y dividirlo por la diferencia entre el máximo y el mínimo de la\n",
    "columna correspondiente"
   ]
  },
  {
   "cell_type": "code",
   "execution_count": 25,
   "metadata": {},
   "outputs": [
    {
     "data": {
      "text/html": [
       "<div>\n",
       "<style scoped>\n",
       "    .dataframe tbody tr th:only-of-type {\n",
       "        vertical-align: middle;\n",
       "    }\n",
       "\n",
       "    .dataframe tbody tr th {\n",
       "        vertical-align: top;\n",
       "    }\n",
       "\n",
       "    .dataframe thead th {\n",
       "        text-align: right;\n",
       "    }\n",
       "</style>\n",
       "<table border=\"1\" class=\"dataframe\">\n",
       "  <thead>\n",
       "    <tr style=\"text-align: right;\">\n",
       "      <th></th>\n",
       "      <th>Edad</th>\n",
       "      <th>Nivel Educativo (máximo valor = postgrado)</th>\n",
       "      <th>Hs.que trabaja x semana</th>\n",
       "      <th>Gana más de 50K anuales? (1=si)</th>\n",
       "    </tr>\n",
       "  </thead>\n",
       "  <tbody>\n",
       "    <tr>\n",
       "      <th>0</th>\n",
       "      <td>0.260274</td>\n",
       "      <td>0.800000</td>\n",
       "      <td>0.551020</td>\n",
       "      <td>1.0</td>\n",
       "    </tr>\n",
       "    <tr>\n",
       "      <th>1</th>\n",
       "      <td>0.164384</td>\n",
       "      <td>0.800000</td>\n",
       "      <td>0.500000</td>\n",
       "      <td>1.0</td>\n",
       "    </tr>\n",
       "    <tr>\n",
       "      <th>2</th>\n",
       "      <td>0.232877</td>\n",
       "      <td>0.666667</td>\n",
       "      <td>0.316327</td>\n",
       "      <td>1.0</td>\n",
       "    </tr>\n",
       "    <tr>\n",
       "      <th>3</th>\n",
       "      <td>0.219178</td>\n",
       "      <td>0.800000</td>\n",
       "      <td>0.244898</td>\n",
       "      <td>1.0</td>\n",
       "    </tr>\n",
       "    <tr>\n",
       "      <th>4</th>\n",
       "      <td>0.178082</td>\n",
       "      <td>0.600000</td>\n",
       "      <td>0.448980</td>\n",
       "      <td>0.0</td>\n",
       "    </tr>\n",
       "  </tbody>\n",
       "</table>\n",
       "</div>"
      ],
      "text/plain": [
       "       Edad  Nivel Educativo (máximo valor = postgrado)  \\\n",
       "0  0.260274                                    0.800000   \n",
       "1  0.164384                                    0.800000   \n",
       "2  0.232877                                    0.666667   \n",
       "3  0.219178                                    0.800000   \n",
       "4  0.178082                                    0.600000   \n",
       "\n",
       "   Hs.que trabaja x semana  Gana más de 50K anuales? (1=si)  \n",
       "0                 0.551020                              1.0  \n",
       "1                 0.500000                              1.0  \n",
       "2                 0.316327                              1.0  \n",
       "3                 0.244898                              1.0  \n",
       "4                 0.448980                              0.0  "
      ]
     },
     "execution_count": 25,
     "metadata": {},
     "output_type": "execute_result"
    }
   ],
   "source": [
    "def escala_lineal(X):\n",
    "    df=pd.DataFrame()\n",
    "    for c in X.columns:\n",
    "        df[c]=(X[c]-X[c].min())/(X[c].max()-X[c].min())\n",
    "    return df\n",
    "\n",
    "X_escala=escala_lineal(X)\n",
    "X_escala.head()"
   ]
  },
  {
   "cell_type": "code",
   "execution_count": 28,
   "metadata": {},
   "outputs": [
    {
     "data": {
      "text/plain": [
       "Edad                                          1.0\n",
       "Nivel Educativo (máximo valor = postgrado)    1.0\n",
       "Hs.que trabaja x semana                       1.0\n",
       "Gana más de 50K anuales? (1=si)               1.0\n",
       "dtype: float64"
      ]
     },
     "execution_count": 28,
     "metadata": {},
     "output_type": "execute_result"
    }
   ],
   "source": [
    "X_escala.max()"
   ]
  },
  {
   "cell_type": "markdown",
   "metadata": {},
   "source": [
    "6) Reordene aleatoriamente las filas de ‘X’."
   ]
  },
  {
   "cell_type": "code",
   "execution_count": 103,
   "metadata": {},
   "outputs": [
    {
     "data": {
      "text/html": [
       "<div>\n",
       "<style scoped>\n",
       "    .dataframe tbody tr th:only-of-type {\n",
       "        vertical-align: middle;\n",
       "    }\n",
       "\n",
       "    .dataframe tbody tr th {\n",
       "        vertical-align: top;\n",
       "    }\n",
       "\n",
       "    .dataframe thead th {\n",
       "        text-align: right;\n",
       "    }\n",
       "</style>\n",
       "<table border=\"1\" class=\"dataframe\">\n",
       "  <thead>\n",
       "    <tr style=\"text-align: right;\">\n",
       "      <th></th>\n",
       "      <th>index</th>\n",
       "      <th>Edad</th>\n",
       "      <th>Nivel Educativo (máximo valor = postgrado)</th>\n",
       "      <th>Hs.que trabaja x semana</th>\n",
       "      <th>Gana más de 50K anuales? (1=si)</th>\n",
       "    </tr>\n",
       "  </thead>\n",
       "  <tbody>\n",
       "    <tr>\n",
       "      <th>0</th>\n",
       "      <td>6200</td>\n",
       "      <td>0.041096</td>\n",
       "      <td>0.133333</td>\n",
       "      <td>0.397959</td>\n",
       "      <td>0.0</td>\n",
       "    </tr>\n",
       "    <tr>\n",
       "      <th>1</th>\n",
       "      <td>10936</td>\n",
       "      <td>0.452055</td>\n",
       "      <td>0.933333</td>\n",
       "      <td>0.602041</td>\n",
       "      <td>1.0</td>\n",
       "    </tr>\n",
       "    <tr>\n",
       "      <th>2</th>\n",
       "      <td>6902</td>\n",
       "      <td>0.383562</td>\n",
       "      <td>0.866667</td>\n",
       "      <td>0.448980</td>\n",
       "      <td>1.0</td>\n",
       "    </tr>\n",
       "    <tr>\n",
       "      <th>3</th>\n",
       "      <td>7784</td>\n",
       "      <td>0.328767</td>\n",
       "      <td>0.800000</td>\n",
       "      <td>0.500000</td>\n",
       "      <td>1.0</td>\n",
       "    </tr>\n",
       "    <tr>\n",
       "      <th>4</th>\n",
       "      <td>2691</td>\n",
       "      <td>0.123288</td>\n",
       "      <td>0.200000</td>\n",
       "      <td>0.397959</td>\n",
       "      <td>0.0</td>\n",
       "    </tr>\n",
       "    <tr>\n",
       "      <th>...</th>\n",
       "      <td>...</td>\n",
       "      <td>...</td>\n",
       "      <td>...</td>\n",
       "      <td>...</td>\n",
       "      <td>...</td>\n",
       "    </tr>\n",
       "    <tr>\n",
       "      <th>11024</th>\n",
       "      <td>6017</td>\n",
       "      <td>0.369863</td>\n",
       "      <td>0.933333</td>\n",
       "      <td>0.397959</td>\n",
       "      <td>1.0</td>\n",
       "    </tr>\n",
       "    <tr>\n",
       "      <th>11025</th>\n",
       "      <td>709</td>\n",
       "      <td>0.301370</td>\n",
       "      <td>0.600000</td>\n",
       "      <td>0.500000</td>\n",
       "      <td>1.0</td>\n",
       "    </tr>\n",
       "    <tr>\n",
       "      <th>11026</th>\n",
       "      <td>10679</td>\n",
       "      <td>0.054795</td>\n",
       "      <td>0.533333</td>\n",
       "      <td>0.530612</td>\n",
       "      <td>0.0</td>\n",
       "    </tr>\n",
       "    <tr>\n",
       "      <th>11027</th>\n",
       "      <td>8366</td>\n",
       "      <td>0.301370</td>\n",
       "      <td>0.533333</td>\n",
       "      <td>0.438776</td>\n",
       "      <td>0.0</td>\n",
       "    </tr>\n",
       "    <tr>\n",
       "      <th>11028</th>\n",
       "      <td>1146</td>\n",
       "      <td>0.328767</td>\n",
       "      <td>0.533333</td>\n",
       "      <td>0.397959</td>\n",
       "      <td>0.0</td>\n",
       "    </tr>\n",
       "  </tbody>\n",
       "</table>\n",
       "<p>11029 rows × 5 columns</p>\n",
       "</div>"
      ],
      "text/plain": [
       "       index      Edad  Nivel Educativo (máximo valor = postgrado)  \\\n",
       "0       6200  0.041096                                    0.133333   \n",
       "1      10936  0.452055                                    0.933333   \n",
       "2       6902  0.383562                                    0.866667   \n",
       "3       7784  0.328767                                    0.800000   \n",
       "4       2691  0.123288                                    0.200000   \n",
       "...      ...       ...                                         ...   \n",
       "11024   6017  0.369863                                    0.933333   \n",
       "11025    709  0.301370                                    0.600000   \n",
       "11026  10679  0.054795                                    0.533333   \n",
       "11027   8366  0.301370                                    0.533333   \n",
       "11028   1146  0.328767                                    0.533333   \n",
       "\n",
       "       Hs.que trabaja x semana  Gana más de 50K anuales? (1=si)  \n",
       "0                     0.397959                              0.0  \n",
       "1                     0.602041                              1.0  \n",
       "2                     0.448980                              1.0  \n",
       "3                     0.500000                              1.0  \n",
       "4                     0.397959                              0.0  \n",
       "...                        ...                              ...  \n",
       "11024                 0.397959                              1.0  \n",
       "11025                 0.500000                              1.0  \n",
       "11026                 0.530612                              0.0  \n",
       "11027                 0.438776                              0.0  \n",
       "11028                 0.397959                              0.0  \n",
       "\n",
       "[11029 rows x 5 columns]"
      ]
     },
     "execution_count": 103,
     "metadata": {},
     "output_type": "execute_result"
    }
   ],
   "source": [
    "X_escala_ord=X_escala.sample(len(X_escala),random_state=4)\n",
    "X_escala_ord.reset_index(inplace=True)\n",
    "X_escala_ord"
   ]
  },
  {
   "cell_type": "markdown",
   "metadata": {},
   "source": [
    "7) Separe la última columna del conjunto de datos y almacénelo en una variable llamada\n",
    "‘Y’. ‘X’ deberá contener el resto de las columnas."
   ]
  },
  {
   "cell_type": "code",
   "execution_count": 105,
   "metadata": {},
   "outputs": [],
   "source": [
    "Y=X_escala_ord['Gana más de 50K anuales? (1=si)']\n",
    "X=X_escala_ord.drop(columns=['Gana más de 50K anuales? (1=si)','index'])"
   ]
  },
  {
   "cell_type": "code",
   "execution_count": 106,
   "metadata": {},
   "outputs": [
    {
     "data": {
      "text/plain": [
       "0    0.0\n",
       "1    1.0\n",
       "2    1.0\n",
       "3    1.0\n",
       "4    0.0\n",
       "Name: Gana más de 50K anuales? (1=si), dtype: float64"
      ]
     },
     "execution_count": 106,
     "metadata": {},
     "output_type": "execute_result"
    }
   ],
   "source": [
    "Y.head()"
   ]
  },
  {
   "cell_type": "code",
   "execution_count": 107,
   "metadata": {},
   "outputs": [
    {
     "data": {
      "text/html": [
       "<div>\n",
       "<style scoped>\n",
       "    .dataframe tbody tr th:only-of-type {\n",
       "        vertical-align: middle;\n",
       "    }\n",
       "\n",
       "    .dataframe tbody tr th {\n",
       "        vertical-align: top;\n",
       "    }\n",
       "\n",
       "    .dataframe thead th {\n",
       "        text-align: right;\n",
       "    }\n",
       "</style>\n",
       "<table border=\"1\" class=\"dataframe\">\n",
       "  <thead>\n",
       "    <tr style=\"text-align: right;\">\n",
       "      <th></th>\n",
       "      <th>Edad</th>\n",
       "      <th>Nivel Educativo (máximo valor = postgrado)</th>\n",
       "      <th>Hs.que trabaja x semana</th>\n",
       "    </tr>\n",
       "  </thead>\n",
       "  <tbody>\n",
       "    <tr>\n",
       "      <th>0</th>\n",
       "      <td>0.041096</td>\n",
       "      <td>0.133333</td>\n",
       "      <td>0.397959</td>\n",
       "    </tr>\n",
       "    <tr>\n",
       "      <th>1</th>\n",
       "      <td>0.452055</td>\n",
       "      <td>0.933333</td>\n",
       "      <td>0.602041</td>\n",
       "    </tr>\n",
       "    <tr>\n",
       "      <th>2</th>\n",
       "      <td>0.383562</td>\n",
       "      <td>0.866667</td>\n",
       "      <td>0.448980</td>\n",
       "    </tr>\n",
       "    <tr>\n",
       "      <th>3</th>\n",
       "      <td>0.328767</td>\n",
       "      <td>0.800000</td>\n",
       "      <td>0.500000</td>\n",
       "    </tr>\n",
       "    <tr>\n",
       "      <th>4</th>\n",
       "      <td>0.123288</td>\n",
       "      <td>0.200000</td>\n",
       "      <td>0.397959</td>\n",
       "    </tr>\n",
       "  </tbody>\n",
       "</table>\n",
       "</div>"
      ],
      "text/plain": [
       "       Edad  Nivel Educativo (máximo valor = postgrado)  \\\n",
       "0  0.041096                                    0.133333   \n",
       "1  0.452055                                    0.933333   \n",
       "2  0.383562                                    0.866667   \n",
       "3  0.328767                                    0.800000   \n",
       "4  0.123288                                    0.200000   \n",
       "\n",
       "   Hs.que trabaja x semana  \n",
       "0                 0.397959  \n",
       "1                 0.602041  \n",
       "2                 0.448980  \n",
       "3                 0.500000  \n",
       "4                 0.397959  "
      ]
     },
     "execution_count": 107,
     "metadata": {},
     "output_type": "execute_result"
    }
   ],
   "source": [
    "X.head()"
   ]
  },
  {
   "cell_type": "markdown",
   "metadata": {},
   "source": [
    "8) Separe el 80% de las filas de ‘X’ en una variable llamada ‘X_train’ y el 20% restante en\n",
    "‘X_test’. Haga lo mismo con ‘Y’ manteniendo el orden obtenido del punto 6."
   ]
  },
  {
   "cell_type": "code",
   "execution_count": 120,
   "metadata": {},
   "outputs": [
    {
     "name": "stdout",
     "output_type": "stream",
     "text": [
      "8823\n",
      "2206\n",
      "11029\n"
     ]
    }
   ],
   "source": [
    "indice_80=int(len(X)*0.8)\n",
    "X_train=X[0:indice_80]\n",
    "X_test=X[indice_80:len(X)]\n",
    "\n",
    "print(len(X_train))\n",
    "print(len(X_test))\n",
    "print(len(X))"
   ]
  },
  {
   "cell_type": "code",
   "execution_count": 121,
   "metadata": {},
   "outputs": [
    {
     "name": "stdout",
     "output_type": "stream",
     "text": [
      "8823\n",
      "2206\n",
      "11029\n"
     ]
    }
   ],
   "source": [
    "indice_80=int(len(X)*0.8)\n",
    "Y_train=Y[0:indice_80]\n",
    "Y_test=Y[indice_80:len(X)]\n",
    "\n",
    "print(len(Y_train))\n",
    "print(len(Y_test))\n",
    "print(len(Y))"
   ]
  },
  {
   "cell_type": "markdown",
   "metadata": {},
   "source": [
    "9) Transponga la matriz ‘X’. Tenga en cuenta que si transpone antes de la escala lineal no\n",
    "seguirá obteniendo el mismo resultado en los Ejercicios 5, 6, 7 y 8."
   ]
  },
  {
   "cell_type": "code",
   "execution_count": 122,
   "metadata": {},
   "outputs": [
    {
     "data": {
      "text/html": [
       "<div>\n",
       "<style scoped>\n",
       "    .dataframe tbody tr th:only-of-type {\n",
       "        vertical-align: middle;\n",
       "    }\n",
       "\n",
       "    .dataframe tbody tr th {\n",
       "        vertical-align: top;\n",
       "    }\n",
       "\n",
       "    .dataframe thead th {\n",
       "        text-align: right;\n",
       "    }\n",
       "</style>\n",
       "<table border=\"1\" class=\"dataframe\">\n",
       "  <thead>\n",
       "    <tr style=\"text-align: right;\">\n",
       "      <th></th>\n",
       "      <th>0</th>\n",
       "      <th>1</th>\n",
       "      <th>2</th>\n",
       "      <th>3</th>\n",
       "      <th>4</th>\n",
       "      <th>5</th>\n",
       "      <th>6</th>\n",
       "      <th>7</th>\n",
       "      <th>8</th>\n",
       "      <th>9</th>\n",
       "      <th>...</th>\n",
       "      <th>11019</th>\n",
       "      <th>11020</th>\n",
       "      <th>11021</th>\n",
       "      <th>11022</th>\n",
       "      <th>11023</th>\n",
       "      <th>11024</th>\n",
       "      <th>11025</th>\n",
       "      <th>11026</th>\n",
       "      <th>11027</th>\n",
       "      <th>11028</th>\n",
       "    </tr>\n",
       "  </thead>\n",
       "  <tbody>\n",
       "    <tr>\n",
       "      <th>Edad</th>\n",
       "      <td>0.041096</td>\n",
       "      <td>0.452055</td>\n",
       "      <td>0.383562</td>\n",
       "      <td>0.328767</td>\n",
       "      <td>0.123288</td>\n",
       "      <td>0.438356</td>\n",
       "      <td>0.013699</td>\n",
       "      <td>0.095890</td>\n",
       "      <td>0.205479</td>\n",
       "      <td>0.30137</td>\n",
       "      <td>...</td>\n",
       "      <td>0.150685</td>\n",
       "      <td>0.191781</td>\n",
       "      <td>0.287671</td>\n",
       "      <td>0.712329</td>\n",
       "      <td>0.041096</td>\n",
       "      <td>0.369863</td>\n",
       "      <td>0.30137</td>\n",
       "      <td>0.054795</td>\n",
       "      <td>0.301370</td>\n",
       "      <td>0.328767</td>\n",
       "    </tr>\n",
       "    <tr>\n",
       "      <th>Nivel Educativo (máximo valor = postgrado)</th>\n",
       "      <td>0.133333</td>\n",
       "      <td>0.933333</td>\n",
       "      <td>0.866667</td>\n",
       "      <td>0.800000</td>\n",
       "      <td>0.200000</td>\n",
       "      <td>0.600000</td>\n",
       "      <td>0.533333</td>\n",
       "      <td>0.600000</td>\n",
       "      <td>0.533333</td>\n",
       "      <td>0.80000</td>\n",
       "      <td>...</td>\n",
       "      <td>0.533333</td>\n",
       "      <td>0.533333</td>\n",
       "      <td>0.333333</td>\n",
       "      <td>1.000000</td>\n",
       "      <td>0.600000</td>\n",
       "      <td>0.933333</td>\n",
       "      <td>0.60000</td>\n",
       "      <td>0.533333</td>\n",
       "      <td>0.533333</td>\n",
       "      <td>0.533333</td>\n",
       "    </tr>\n",
       "    <tr>\n",
       "      <th>Hs.que trabaja x semana</th>\n",
       "      <td>0.397959</td>\n",
       "      <td>0.602041</td>\n",
       "      <td>0.448980</td>\n",
       "      <td>0.500000</td>\n",
       "      <td>0.397959</td>\n",
       "      <td>0.397959</td>\n",
       "      <td>0.397959</td>\n",
       "      <td>0.397959</td>\n",
       "      <td>0.397959</td>\n",
       "      <td>0.50000</td>\n",
       "      <td>...</td>\n",
       "      <td>0.397959</td>\n",
       "      <td>0.397959</td>\n",
       "      <td>0.397959</td>\n",
       "      <td>0.500000</td>\n",
       "      <td>0.255102</td>\n",
       "      <td>0.397959</td>\n",
       "      <td>0.50000</td>\n",
       "      <td>0.530612</td>\n",
       "      <td>0.438776</td>\n",
       "      <td>0.397959</td>\n",
       "    </tr>\n",
       "  </tbody>\n",
       "</table>\n",
       "<p>3 rows × 11029 columns</p>\n",
       "</div>"
      ],
      "text/plain": [
       "                                               0         1         2      \\\n",
       "Edad                                        0.041096  0.452055  0.383562   \n",
       "Nivel Educativo (máximo valor = postgrado)  0.133333  0.933333  0.866667   \n",
       "Hs.que trabaja x semana                     0.397959  0.602041  0.448980   \n",
       "\n",
       "                                               3         4         5      \\\n",
       "Edad                                        0.328767  0.123288  0.438356   \n",
       "Nivel Educativo (máximo valor = postgrado)  0.800000  0.200000  0.600000   \n",
       "Hs.que trabaja x semana                     0.500000  0.397959  0.397959   \n",
       "\n",
       "                                               6         7         8      \\\n",
       "Edad                                        0.013699  0.095890  0.205479   \n",
       "Nivel Educativo (máximo valor = postgrado)  0.533333  0.600000  0.533333   \n",
       "Hs.que trabaja x semana                     0.397959  0.397959  0.397959   \n",
       "\n",
       "                                              9      ...     11019     11020  \\\n",
       "Edad                                        0.30137  ...  0.150685  0.191781   \n",
       "Nivel Educativo (máximo valor = postgrado)  0.80000  ...  0.533333  0.533333   \n",
       "Hs.que trabaja x semana                     0.50000  ...  0.397959  0.397959   \n",
       "\n",
       "                                               11021     11022     11023  \\\n",
       "Edad                                        0.287671  0.712329  0.041096   \n",
       "Nivel Educativo (máximo valor = postgrado)  0.333333  1.000000  0.600000   \n",
       "Hs.que trabaja x semana                     0.397959  0.500000  0.255102   \n",
       "\n",
       "                                               11024    11025     11026  \\\n",
       "Edad                                        0.369863  0.30137  0.054795   \n",
       "Nivel Educativo (máximo valor = postgrado)  0.933333  0.60000  0.533333   \n",
       "Hs.que trabaja x semana                     0.397959  0.50000  0.530612   \n",
       "\n",
       "                                               11027     11028  \n",
       "Edad                                        0.301370  0.328767  \n",
       "Nivel Educativo (máximo valor = postgrado)  0.533333  0.533333  \n",
       "Hs.que trabaja x semana                     0.438776  0.397959  \n",
       "\n",
       "[3 rows x 11029 columns]"
      ]
     },
     "execution_count": 122,
     "metadata": {},
     "output_type": "execute_result"
    }
   ],
   "source": [
    "X.transpose()"
   ]
  },
  {
   "cell_type": "markdown",
   "metadata": {},
   "source": [
    "10) Defina un vector ‘prediction’ del mismo tamaño que ‘Y_test’ cuyo contenido sean\n",
    "únicamente ceros y unos ubicados aleatoriamente."
   ]
  },
  {
   "cell_type": "code",
   "execution_count": 215,
   "metadata": {},
   "outputs": [
    {
     "name": "stdout",
     "output_type": "stream",
     "text": [
      "2206\n"
     ]
    }
   ],
   "source": [
    "import random,math\n",
    "\n",
    "prediction=[]\n",
    "for i in Y_test:\n",
    "    prediction.append(round(random.uniform(0, 1))*1.0)\n",
    "\n",
    "print(len(prediction))"
   ]
  },
  {
   "cell_type": "markdown",
   "metadata": {},
   "source": [
    "11) Considerando que el vector del Ejercicio 10 es el resultado de clasificar los datos de\n",
    "‘X_train’ con un modelo predictivo, obtener el número de coincidencias con ‘T_test’"
   ]
  },
  {
   "cell_type": "code",
   "execution_count": 216,
   "metadata": {},
   "outputs": [
    {
     "data": {
      "text/html": [
       "<div>\n",
       "<style scoped>\n",
       "    .dataframe tbody tr th:only-of-type {\n",
       "        vertical-align: middle;\n",
       "    }\n",
       "\n",
       "    .dataframe tbody tr th {\n",
       "        vertical-align: top;\n",
       "    }\n",
       "\n",
       "    .dataframe thead th {\n",
       "        text-align: right;\n",
       "    }\n",
       "</style>\n",
       "<table border=\"1\" class=\"dataframe\">\n",
       "  <thead>\n",
       "    <tr style=\"text-align: right;\">\n",
       "      <th></th>\n",
       "      <th>real</th>\n",
       "      <th>predicho</th>\n",
       "      <th>coincidencia</th>\n",
       "    </tr>\n",
       "  </thead>\n",
       "  <tbody>\n",
       "    <tr>\n",
       "      <th>8823</th>\n",
       "      <td>1.0</td>\n",
       "      <td>1.0</td>\n",
       "      <td>True</td>\n",
       "    </tr>\n",
       "    <tr>\n",
       "      <th>8824</th>\n",
       "      <td>1.0</td>\n",
       "      <td>1.0</td>\n",
       "      <td>True</td>\n",
       "    </tr>\n",
       "    <tr>\n",
       "      <th>8825</th>\n",
       "      <td>1.0</td>\n",
       "      <td>1.0</td>\n",
       "      <td>True</td>\n",
       "    </tr>\n",
       "    <tr>\n",
       "      <th>8826</th>\n",
       "      <td>1.0</td>\n",
       "      <td>0.0</td>\n",
       "      <td>False</td>\n",
       "    </tr>\n",
       "    <tr>\n",
       "      <th>8827</th>\n",
       "      <td>0.0</td>\n",
       "      <td>1.0</td>\n",
       "      <td>False</td>\n",
       "    </tr>\n",
       "    <tr>\n",
       "      <th>...</th>\n",
       "      <td>...</td>\n",
       "      <td>...</td>\n",
       "      <td>...</td>\n",
       "    </tr>\n",
       "    <tr>\n",
       "      <th>8918</th>\n",
       "      <td>1.0</td>\n",
       "      <td>0.0</td>\n",
       "      <td>False</td>\n",
       "    </tr>\n",
       "    <tr>\n",
       "      <th>8919</th>\n",
       "      <td>1.0</td>\n",
       "      <td>1.0</td>\n",
       "      <td>True</td>\n",
       "    </tr>\n",
       "    <tr>\n",
       "      <th>8920</th>\n",
       "      <td>0.0</td>\n",
       "      <td>1.0</td>\n",
       "      <td>False</td>\n",
       "    </tr>\n",
       "    <tr>\n",
       "      <th>8921</th>\n",
       "      <td>0.0</td>\n",
       "      <td>1.0</td>\n",
       "      <td>False</td>\n",
       "    </tr>\n",
       "    <tr>\n",
       "      <th>8922</th>\n",
       "      <td>1.0</td>\n",
       "      <td>0.0</td>\n",
       "      <td>False</td>\n",
       "    </tr>\n",
       "  </tbody>\n",
       "</table>\n",
       "<p>100 rows × 3 columns</p>\n",
       "</div>"
      ],
      "text/plain": [
       "      real  predicho  coincidencia\n",
       "8823   1.0       1.0          True\n",
       "8824   1.0       1.0          True\n",
       "8825   1.0       1.0          True\n",
       "8826   1.0       0.0         False\n",
       "8827   0.0       1.0         False\n",
       "...    ...       ...           ...\n",
       "8918   1.0       0.0         False\n",
       "8919   1.0       1.0          True\n",
       "8920   0.0       1.0         False\n",
       "8921   0.0       1.0         False\n",
       "8922   1.0       0.0         False\n",
       "\n",
       "[100 rows x 3 columns]"
      ]
     },
     "execution_count": 216,
     "metadata": {},
     "output_type": "execute_result"
    }
   ],
   "source": [
    "nro_coincidencias=pd.DataFrame()\n",
    "nro_coincidencias['real']=Y_test\n",
    "nro_coincidencias['predicho']=prediction\n",
    "nro_coincidencias['coincidencia']=prediction==Y_test\n",
    "nro_coincidencias.head(100)"
   ]
  },
  {
   "cell_type": "code",
   "execution_count": 217,
   "metadata": {},
   "outputs": [
    {
     "name": "stdout",
     "output_type": "stream",
     "text": [
      "1083\n"
     ]
    }
   ],
   "source": [
    "print(len(nro_coincidencias[nro_coincidencias.coincidencia==True]))"
   ]
  },
  {
   "cell_type": "code",
   "execution_count": 227,
   "metadata": {},
   "outputs": [
    {
     "data": {
      "text/plain": [
       "coincidencia\n",
       "False    1123\n",
       "True     1083\n",
       "Name: predicho, dtype: int64"
      ]
     },
     "execution_count": 227,
     "metadata": {},
     "output_type": "execute_result"
    }
   ],
   "source": [
    "nro_coincidencias.groupby('coincidencia').count()['predicho']"
   ]
  },
  {
   "cell_type": "markdown",
   "metadata": {},
   "source": [
    "12) Construir una matriz de confusión en base al vector ‘T_test’ y ‘prediction. Puede revisar\n",
    "https://en.wikipedia.org/wiki/Confusion_matrix para ayudarse en los cálculos"
   ]
  },
  {
   "cell_type": "code",
   "execution_count": 234,
   "metadata": {},
   "outputs": [
    {
     "name": "stdout",
     "output_type": "stream",
     "text": [
      "verdaderos positivos: 615\n",
      "verdaderos negativos: 468\n",
      "falsos positivos: 494\n",
      "falsos negativos: 629\n",
      "[[468 494]\n",
      " [629 615]]\n"
     ]
    }
   ],
   "source": [
    "from sklearn.metrics import confusion_matrix\n",
    "\n",
    "tn, fp, fn, tp = confusion_matrix(Y_test,prediction).ravel()\n",
    "print(\"verdaderos positivos:\",tp)\n",
    "print(\"verdaderos negativos:\",tn)\n",
    "print(\"falsos positivos:\",fp)\n",
    "print(\"falsos negativos:\",fn)\n",
    "print(confusion_matrix(Y_test,prediction))"
   ]
  },
  {
   "cell_type": "code",
   "execution_count": 254,
   "metadata": {},
   "outputs": [],
   "source": [
    "import matplotlib.pyplot as plt\n",
    "import itertools\n",
    "# Función para plot de la matriz de confusión\n",
    "def plot_confusion_matrix(cm, classes, normalize=False, title='Confusion matrix', cmap=plt.cm.Blues):\n",
    "    if normalize:\n",
    "        cm = cm.astype('float') / cm.sum(axis=1)[:, np.newaxis]\n",
    "        print(\"Normalized confusion matrix\")\n",
    "    else:\n",
    "        print('Confusion matrix, without normalization')\n",
    "    #_________________________________________________\n",
    "    plt.imshow(cm, interpolation='nearest', cmap=cmap)\n",
    "    plt.title(title)\n",
    "    plt.colorbar()\n",
    "    tick_marks = np.arange(len(classes))\n",
    "    plt.xticks(tick_marks, classes, rotation=0)\n",
    "    plt.yticks(tick_marks, classes)\n",
    "    #_________________________________________________\n",
    "    fmt = '.5f' if normalize else 'd'\n",
    "    thresh = cm.max() / 2.\n",
    "    for i, j in itertools.product(range(cm.shape[0]), range(cm.shape[1])):\n",
    "        plt.text(j, i, format(cm[i, j], fmt),\n",
    "                 horizontalalignment=\"center\",\n",
    "                 color=\"green\" if cm[i, j] > thresh else \"green\")\n",
    "    #_________________________________________________\n",
    "    plt.tight_layout()\n",
    "    plt.ylabel('True label')\n",
    "    plt.xlabel('Predicted label')"
   ]
  },
  {
   "cell_type": "code",
   "execution_count": 255,
   "metadata": {},
   "outputs": [
    {
     "name": "stdout",
     "output_type": "stream",
     "text": [
      "Confusion matrix, without normalization\n"
     ]
    },
    {
     "data": {
      "image/png": "[encoded data removed]",
      "text/plain": [
       "<Figure size 1440x576 with 2 Axes>"
      ]
     },
     "metadata": {
      "needs_background": "light"
     },
     "output_type": "display_data"
    }
   ],
   "source": [
    "import numpy as np\n",
    "class_names = [0,1]\n",
    "cnf_matrix = confusion_matrix(Y_test, prediction) \n",
    "np.set_printoptions(precision=2)\n",
    "plt.figure(figsize = (20,8))\n",
    "plot_confusion_matrix(cnf_matrix, classes=class_names, normalize = False, title='Matriz de Confusión')\n"
   ]
  }
 ],
 "metadata": {
  "kernelspec": {
   "display_name": "Python 3 (ipykernel)",
   "language": "python",
   "name": "python3"
  },
  "language_info": {
   "codemirror_mode": {
    "name": "ipython",
    "version": 3
   },
   "file_extension": ".py",
   "mimetype": "text/x-python",
   "name": "python",
   "nbconvert_exporter": "python",
   "pygments_lexer": "ipython3",
   "version": "3.7.7"
  }
 },
 "nbformat": 4,
 "nbformat_minor": 4
}
