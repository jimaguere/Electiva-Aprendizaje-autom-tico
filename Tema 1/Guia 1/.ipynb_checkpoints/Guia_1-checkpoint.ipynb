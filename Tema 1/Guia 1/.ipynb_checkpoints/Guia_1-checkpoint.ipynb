{
 "cells": [
  {
   "cell_type": "markdown",
   "metadata": {},
   "source": [
    "# <center>Electiva Aprendizaje automático</center>\n",
    "\n",
    "# <center>Maestría en Gestión de Tecnologías de Información y Conocimiento</center>\n",
    "\n",
    "# <center>Facultad de Ingeniería</center>\n",
    "# <center>Universidad de Nariño</center>"
   ]
  },
  {
   "cell_type": "code",
   "execution_count": 18,
   "metadata": {},
   "outputs": [],
   "source": [
    "import pandas as pd"
   ]
  },
  {
   "cell_type": "markdown",
   "metadata": {},
   "source": [
    "1) Lea únicamente los valores numéricos del archivo “Adult_Parte1.xlsx” y guárdelos en un\n",
    "dataframe de Pandas llamado X"
   ]
  },
  {
   "cell_type": "code",
   "execution_count": 19,
   "metadata": {},
   "outputs": [
    {
     "data": {
      "text/html": [
       "<div>\n",
       "<style scoped>\n",
       "    .dataframe tbody tr th:only-of-type {\n",
       "        vertical-align: middle;\n",
       "    }\n",
       "\n",
       "    .dataframe tbody tr th {\n",
       "        vertical-align: top;\n",
       "    }\n",
       "\n",
       "    .dataframe thead th {\n",
       "        text-align: right;\n",
       "    }\n",
       "</style>\n",
       "<table border=\"1\" class=\"dataframe\">\n",
       "  <thead>\n",
       "    <tr style=\"text-align: right;\">\n",
       "      <th></th>\n",
       "      <th>Edad</th>\n",
       "      <th>Nivel Educativo (máximo valor = postgrado)</th>\n",
       "      <th>Hs.que trabaja x semana</th>\n",
       "      <th>Gana más de 50K anuales? (1=si)</th>\n",
       "    </tr>\n",
       "  </thead>\n",
       "  <tbody>\n",
       "    <tr>\n",
       "      <th>0</th>\n",
       "      <td>36</td>\n",
       "      <td>13</td>\n",
       "      <td>55</td>\n",
       "      <td>1</td>\n",
       "    </tr>\n",
       "    <tr>\n",
       "      <th>1</th>\n",
       "      <td>29</td>\n",
       "      <td>13</td>\n",
       "      <td>50</td>\n",
       "      <td>1</td>\n",
       "    </tr>\n",
       "    <tr>\n",
       "      <th>2</th>\n",
       "      <td>34</td>\n",
       "      <td>11</td>\n",
       "      <td>32</td>\n",
       "      <td>1</td>\n",
       "    </tr>\n",
       "    <tr>\n",
       "      <th>3</th>\n",
       "      <td>33</td>\n",
       "      <td>13</td>\n",
       "      <td>25</td>\n",
       "      <td>1</td>\n",
       "    </tr>\n",
       "    <tr>\n",
       "      <th>4</th>\n",
       "      <td>30</td>\n",
       "      <td>10</td>\n",
       "      <td>45</td>\n",
       "      <td>0</td>\n",
       "    </tr>\n",
       "  </tbody>\n",
       "</table>\n",
       "</div>"
      ],
      "text/plain": [
       "   Edad  Nivel Educativo (máximo valor = postgrado)  Hs.que trabaja x semana  \\\n",
       "0    36                                          13                       55   \n",
       "1    29                                          13                       50   \n",
       "2    34                                          11                       32   \n",
       "3    33                                          13                       25   \n",
       "4    30                                          10                       45   \n",
       "\n",
       "   Gana más de 50K anuales? (1=si)  \n",
       "0                                1  \n",
       "1                                1  \n",
       "2                                1  \n",
       "3                                1  \n",
       "4                                0  "
      ]
     },
     "execution_count": 19,
     "metadata": {},
     "output_type": "execute_result"
    }
   ],
   "source": [
    "X=pd.read_excel(\"./Adult_Parte1.xlsx\")\n",
    "X.head()"
   ]
  },
  {
   "cell_type": "markdown",
   "metadata": {},
   "source": [
    "2) Obtenga el tamaño de ‘X’ en cantidad de filas y columnas."
   ]
  },
  {
   "cell_type": "code",
   "execution_count": 20,
   "metadata": {},
   "outputs": [
    {
     "name": "stdout",
     "output_type": "stream",
     "text": [
      "(11029, 4)\n"
     ]
    }
   ],
   "source": [
    "print(X.shape)"
   ]
  },
  {
   "cell_type": "markdown",
   "metadata": {},
   "source": [
    "3) Calcule el valor mínimo de cada columna de ‘X’."
   ]
  },
  {
   "cell_type": "code",
   "execution_count": 21,
   "metadata": {},
   "outputs": [
    {
     "name": "stdout",
     "output_type": "stream",
     "text": [
      "Edad                                          int64\n",
      "Nivel Educativo (máximo valor = postgrado)    int64\n",
      "Hs.que trabaja x semana                       int64\n",
      "Gana más de 50K anuales? (1=si)               int64\n",
      "dtype: object\n",
      "Edad mínimo: 17\n",
      "Nivel Educativo mínimo: 1\n",
      "Horas por semana mínimo: 1\n"
     ]
    }
   ],
   "source": [
    "print(X.dtypes)\n",
    "print(\"Edad mínimo:\",X.Edad.min())\n",
    "print(\"Nivel Educativo mínimo:\",X[\"Nivel Educativo (máximo valor = postgrado)\"].min())\n",
    "print(\"Horas por semana mínimo:\",X[\"Hs.que trabaja x semana\"].min())"
   ]
  },
  {
   "cell_type": "code",
   "execution_count": 22,
   "metadata": {},
   "outputs": [
    {
     "data": {
      "text/plain": [
       "Edad                                          17\n",
       "Nivel Educativo (máximo valor = postgrado)     1\n",
       "Hs.que trabaja x semana                        1\n",
       "Gana más de 50K anuales? (1=si)                0\n",
       "dtype: int64"
      ]
     },
     "execution_count": 22,
     "metadata": {},
     "output_type": "execute_result"
    }
   ],
   "source": [
    "X.min()"
   ]
  },
  {
   "cell_type": "markdown",
   "metadata": {},
   "source": [
    "4) Ahora obtenga el máximo, pero por cada fila."
   ]
  },
  {
   "cell_type": "code",
   "execution_count": 23,
   "metadata": {},
   "outputs": [
    {
     "data": {
      "text/plain": [
       "0        55\n",
       "1        50\n",
       "2        34\n",
       "3        33\n",
       "4        45\n",
       "         ..\n",
       "11024    50\n",
       "11025    55\n",
       "11026    50\n",
       "11027    60\n",
       "11028    43\n",
       "Length: 11029, dtype: int64"
      ]
     },
     "execution_count": 23,
     "metadata": {},
     "output_type": "execute_result"
    }
   ],
   "source": [
    "X.transpose().max()"
   ]
  },
  {
   "cell_type": "markdown",
   "metadata": {},
   "source": [
    "5) Realice una escala lineal de ‘X’ por columna. Para esto deberá a cada valor, restarle el\n",
    "mínimo de la columna y dividirlo por la diferencia entre el máximo y el mínimo de la\n",
    "columna correspondiente"
   ]
  },
  {
   "cell_type": "code",
   "execution_count": 25,
   "metadata": {},
   "outputs": [
    {
     "data": {
      "text/html": [
       "<div>\n",
       "<style scoped>\n",
       "    .dataframe tbody tr th:only-of-type {\n",
       "        vertical-align: middle;\n",
       "    }\n",
       "\n",
       "    .dataframe tbody tr th {\n",
       "        vertical-align: top;\n",
       "    }\n",
       "\n",
       "    .dataframe thead th {\n",
       "        text-align: right;\n",
       "    }\n",
       "</style>\n",
       "<table border=\"1\" class=\"dataframe\">\n",
       "  <thead>\n",
       "    <tr style=\"text-align: right;\">\n",
       "      <th></th>\n",
       "      <th>Edad</th>\n",
       "      <th>Nivel Educativo (máximo valor = postgrado)</th>\n",
       "      <th>Hs.que trabaja x semana</th>\n",
       "      <th>Gana más de 50K anuales? (1=si)</th>\n",
       "    </tr>\n",
       "  </thead>\n",
       "  <tbody>\n",
       "    <tr>\n",
       "      <th>0</th>\n",
       "      <td>0.260274</td>\n",
       "      <td>0.800000</td>\n",
       "      <td>0.551020</td>\n",
       "      <td>1.0</td>\n",
       "    </tr>\n",
       "    <tr>\n",
       "      <th>1</th>\n",
       "      <td>0.164384</td>\n",
       "      <td>0.800000</td>\n",
       "      <td>0.500000</td>\n",
       "      <td>1.0</td>\n",
       "    </tr>\n",
       "    <tr>\n",
       "      <th>2</th>\n",
       "      <td>0.232877</td>\n",
       "      <td>0.666667</td>\n",
       "      <td>0.316327</td>\n",
       "      <td>1.0</td>\n",
       "    </tr>\n",
       "    <tr>\n",
       "      <th>3</th>\n",
       "      <td>0.219178</td>\n",
       "      <td>0.800000</td>\n",
       "      <td>0.244898</td>\n",
       "      <td>1.0</td>\n",
       "    </tr>\n",
       "    <tr>\n",
       "      <th>4</th>\n",
       "      <td>0.178082</td>\n",
       "      <td>0.600000</td>\n",
       "      <td>0.448980</td>\n",
       "      <td>0.0</td>\n",
       "    </tr>\n",
       "  </tbody>\n",
       "</table>\n",
       "</div>"
      ],
      "text/plain": [
       "       Edad  Nivel Educativo (máximo valor = postgrado)  \\\n",
       "0  0.260274                                    0.800000   \n",
       "1  0.164384                                    0.800000   \n",
       "2  0.232877                                    0.666667   \n",
       "3  0.219178                                    0.800000   \n",
       "4  0.178082                                    0.600000   \n",
       "\n",
       "   Hs.que trabaja x semana  Gana más de 50K anuales? (1=si)  \n",
       "0                 0.551020                              1.0  \n",
       "1                 0.500000                              1.0  \n",
       "2                 0.316327                              1.0  \n",
       "3                 0.244898                              1.0  \n",
       "4                 0.448980                              0.0  "
      ]
     },
     "execution_count": 25,
     "metadata": {},
     "output_type": "execute_result"
    }
   ],
   "source": [
    "def escala_lineal(X):\n",
    "    df=pd.DataFrame()\n",
    "    for c in X.columns:\n",
    "        df[c]=(X[c]-X[c].min())/(X[c].max()-X[c].min())\n",
    "    return df\n",
    "\n",
    "X_escala=escala_lineal(X)\n",
    "X_escala.head()"
   ]
  },
  {
   "cell_type": "code",
   "execution_count": 28,
   "metadata": {},
   "outputs": [
    {
     "data": {
      "text/plain": [
       "Edad                                          1.0\n",
       "Nivel Educativo (máximo valor = postgrado)    1.0\n",
       "Hs.que trabaja x semana                       1.0\n",
       "Gana más de 50K anuales? (1=si)               1.0\n",
       "dtype: float64"
      ]
     },
     "execution_count": 28,
     "metadata": {},
     "output_type": "execute_result"
    }
   ],
   "source": [
    "X_escala.max()"
   ]
  },
  {
   "cell_type": "markdown",
   "metadata": {},
   "source": [
    "6) Reordene aleatoriamente las filas de ‘X’."
   ]
  },
  {
   "cell_type": "code",
   "execution_count": 103,
   "metadata": {},
   "outputs": [
    {
     "data": {
      "text/html": [
       "<div>\n",
       "<style scoped>\n",
       "    .dataframe tbody tr th:only-of-type {\n",
       "        vertical-align: middle;\n",
       "    }\n",
       "\n",
       "    .dataframe tbody tr th {\n",
       "        vertical-align: top;\n",
       "    }\n",
       "\n",
       "    .dataframe thead th {\n",
       "        text-align: right;\n",
       "    }\n",
       "</style>\n",
       "<table border=\"1\" class=\"dataframe\">\n",
       "  <thead>\n",
       "    <tr style=\"text-align: right;\">\n",
       "      <th></th>\n",
       "      <th>index</th>\n",
       "      <th>Edad</th>\n",
       "      <th>Nivel Educativo (máximo valor = postgrado)</th>\n",
       "      <th>Hs.que trabaja x semana</th>\n",
       "      <th>Gana más de 50K anuales? (1=si)</th>\n",
       "    </tr>\n",
       "  </thead>\n",
       "  <tbody>\n",
       "    <tr>\n",
       "      <th>0</th>\n",
       "      <td>6200</td>\n",
       "      <td>0.041096</td>\n",
       "      <td>0.133333</td>\n",
       "      <td>0.397959</td>\n",
       "      <td>0.0</td>\n",
       "    </tr>\n",
       "    <tr>\n",
       "      <th>1</th>\n",
       "      <td>10936</td>\n",
       "      <td>0.452055</td>\n",
       "      <td>0.933333</td>\n",
       "      <td>0.602041</td>\n",
       "      <td>1.0</td>\n",
       "    </tr>\n",
       "    <tr>\n",
       "      <th>2</th>\n",
       "      <td>6902</td>\n",
       "      <td>0.383562</td>\n",
       "      <td>0.866667</td>\n",
       "      <td>0.448980</td>\n",
       "      <td>1.0</td>\n",
       "    </tr>\n",
       "    <tr>\n",
       "      <th>3</th>\n",
       "      <td>7784</td>\n",
       "      <td>0.328767</td>\n",
       "      <td>0.800000</td>\n",
       "      <td>0.500000</td>\n",
       "      <td>1.0</td>\n",
       "    </tr>\n",
       "    <tr>\n",
       "      <th>4</th>\n",
       "      <td>2691</td>\n",
       "      <td>0.123288</td>\n",
       "      <td>0.200000</td>\n",
       "      <td>0.397959</td>\n",
       "      <td>0.0</td>\n",
       "    </tr>\n",
       "    <tr>\n",
       "      <th>...</th>\n",
       "      <td>...</td>\n",
       "      <td>...</td>\n",
       "      <td>...</td>\n",
       "      <td>...</td>\n",
       "      <td>...</td>\n",
       "    </tr>\n",
       "    <tr>\n",
       "      <th>11024</th>\n",
       "      <td>6017</td>\n",
       "      <td>0.369863</td>\n",
       "      <td>0.933333</td>\n",
       "      <td>0.397959</td>\n",
       "      <td>1.0</td>\n",
       "    </tr>\n",
       "    <tr>\n",
       "      <th>11025</th>\n",
       "      <td>709</td>\n",
       "      <td>0.301370</td>\n",
       "      <td>0.600000</td>\n",
       "      <td>0.500000</td>\n",
       "      <td>1.0</td>\n",
       "    </tr>\n",
       "    <tr>\n",
       "      <th>11026</th>\n",
       "      <td>10679</td>\n",
       "      <td>0.054795</td>\n",
       "      <td>0.533333</td>\n",
       "      <td>0.530612</td>\n",
       "      <td>0.0</td>\n",
       "    </tr>\n",
       "    <tr>\n",
       "      <th>11027</th>\n",
       "      <td>8366</td>\n",
       "      <td>0.301370</td>\n",
       "      <td>0.533333</td>\n",
       "      <td>0.438776</td>\n",
       "      <td>0.0</td>\n",
       "    </tr>\n",
       "    <tr>\n",
       "      <th>11028</th>\n",
       "      <td>1146</td>\n",
       "      <td>0.328767</td>\n",
       "      <td>0.533333</td>\n",
       "      <td>0.397959</td>\n",
       "      <td>0.0</td>\n",
       "    </tr>\n",
       "  </tbody>\n",
       "</table>\n",
       "<p>11029 rows × 5 columns</p>\n",
       "</div>"
      ],
      "text/plain": [
       "       index      Edad  Nivel Educativo (máximo valor = postgrado)  \\\n",
       "0       6200  0.041096                                    0.133333   \n",
       "1      10936  0.452055                                    0.933333   \n",
       "2       6902  0.383562                                    0.866667   \n",
       "3       7784  0.328767                                    0.800000   \n",
       "4       2691  0.123288                                    0.200000   \n",
       "...      ...       ...                                         ...   \n",
       "11024   6017  0.369863                                    0.933333   \n",
       "11025    709  0.301370                                    0.600000   \n",
       "11026  10679  0.054795                                    0.533333   \n",
       "11027   8366  0.301370                                    0.533333   \n",
       "11028   1146  0.328767                                    0.533333   \n",
       "\n",
       "       Hs.que trabaja x semana  Gana más de 50K anuales? (1=si)  \n",
       "0                     0.397959                              0.0  \n",
       "1                     0.602041                              1.0  \n",
       "2                     0.448980                              1.0  \n",
       "3                     0.500000                              1.0  \n",
       "4                     0.397959                              0.0  \n",
       "...                        ...                              ...  \n",
       "11024                 0.397959                              1.0  \n",
       "11025                 0.500000                              1.0  \n",
       "11026                 0.530612                              0.0  \n",
       "11027                 0.438776                              0.0  \n",
       "11028                 0.397959                              0.0  \n",
       "\n",
       "[11029 rows x 5 columns]"
      ]
     },
     "execution_count": 103,
     "metadata": {},
     "output_type": "execute_result"
    }
   ],
   "source": [
    "X_escala_ord=X_escala.sample(len(X_escala),random_state=4)\n",
    "X_escala_ord.reset_index(inplace=True)\n",
    "X_escala_ord"
   ]
  },
  {
   "cell_type": "markdown",
   "metadata": {},
   "source": [
    "7) Separe la última columna del conjunto de datos y almacénelo en una variable llamada\n",
    "‘Y’. ‘X’ deberá contener el resto de las columnas."
   ]
  },
  {
   "cell_type": "code",
   "execution_count": 105,
   "metadata": {},
   "outputs": [],
   "source": [
    "Y=X_escala_ord['Gana más de 50K anuales? (1=si)']\n",
    "X=X_escala_ord.drop(columns=['Gana más de 50K anuales? (1=si)','index'])"
   ]
  },
  {
   "cell_type": "code",
   "execution_count": 106,
   "metadata": {},
   "outputs": [
    {
     "data": {
      "text/plain": [
       "0    0.0\n",
       "1    1.0\n",
       "2    1.0\n",
       "3    1.0\n",
       "4    0.0\n",
       "Name: Gana más de 50K anuales? (1=si), dtype: float64"
      ]
     },
     "execution_count": 106,
     "metadata": {},
     "output_type": "execute_result"
    }
   ],
   "source": [
    "Y.head()"
   ]
  },
  {
   "cell_type": "code",
   "execution_count": 107,
   "metadata": {},
   "outputs": [
    {
     "data": {
      "text/html": [
       "<div>\n",
       "<style scoped>\n",
       "    .dataframe tbody tr th:only-of-type {\n",
       "        vertical-align: middle;\n",
       "    }\n",
       "\n",
       "    .dataframe tbody tr th {\n",
       "        vertical-align: top;\n",
       "    }\n",
       "\n",
       "    .dataframe thead th {\n",
       "        text-align: right;\n",
       "    }\n",
       "</style>\n",
       "<table border=\"1\" class=\"dataframe\">\n",
       "  <thead>\n",
       "    <tr style=\"text-align: right;\">\n",
       "      <th></th>\n",
       "      <th>Edad</th>\n",
       "      <th>Nivel Educativo (máximo valor = postgrado)</th>\n",
       "      <th>Hs.que trabaja x semana</th>\n",
       "    </tr>\n",
       "  </thead>\n",
       "  <tbody>\n",
       "    <tr>\n",
       "      <th>0</th>\n",
       "      <td>0.041096</td>\n",
       "      <td>0.133333</td>\n",
       "      <td>0.397959</td>\n",
       "    </tr>\n",
       "    <tr>\n",
       "      <th>1</th>\n",
       "      <td>0.452055</td>\n",
       "      <td>0.933333</td>\n",
       "      <td>0.602041</td>\n",
       "    </tr>\n",
       "    <tr>\n",
       "      <th>2</th>\n",
       "      <td>0.383562</td>\n",
       "      <td>0.866667</td>\n",
       "      <td>0.448980</td>\n",
       "    </tr>\n",
       "    <tr>\n",
       "      <th>3</th>\n",
       "      <td>0.328767</td>\n",
       "      <td>0.800000</td>\n",
       "      <td>0.500000</td>\n",
       "    </tr>\n",
       "    <tr>\n",
       "      <th>4</th>\n",
       "      <td>0.123288</td>\n",
       "      <td>0.200000</td>\n",
       "      <td>0.397959</td>\n",
       "    </tr>\n",
       "  </tbody>\n",
       "</table>\n",
       "</div>"
      ],
      "text/plain": [
       "       Edad  Nivel Educativo (máximo valor = postgrado)  \\\n",
       "0  0.041096                                    0.133333   \n",
       "1  0.452055                                    0.933333   \n",
       "2  0.383562                                    0.866667   \n",
       "3  0.328767                                    0.800000   \n",
       "4  0.123288                                    0.200000   \n",
       "\n",
       "   Hs.que trabaja x semana  \n",
       "0                 0.397959  \n",
       "1                 0.602041  \n",
       "2                 0.448980  \n",
       "3                 0.500000  \n",
       "4                 0.397959  "
      ]
     },
     "execution_count": 107,
     "metadata": {},
     "output_type": "execute_result"
    }
   ],
   "source": [
    "X.head()"
   ]
  },
  {
   "cell_type": "markdown",
   "metadata": {},
   "source": [
    "8) Separe el 80% de las filas de ‘X’ en una variable llamada ‘X_train’ y el 20% restante en\n",
    "‘X_test’. Haga lo mismo con ‘Y’ manteniendo el orden obtenido del punto 6."
   ]
  },
  {
   "cell_type": "code",
   "execution_count": 120,
   "metadata": {},
   "outputs": [
    {
     "name": "stdout",
     "output_type": "stream",
     "text": [
      "8823\n",
      "2206\n",
      "11029\n"
     ]
    }
   ],
   "source": [
    "indice_80=int(len(X)*0.8)\n",
    "X_train=X[0:indice_80]\n",
    "X_test=X[indice_80:len(X)]\n",
    "\n",
    "print(len(X_train))\n",
    "print(len(X_test))\n",
    "print(len(X))"
   ]
  },
  {
   "cell_type": "code",
   "execution_count": 121,
   "metadata": {},
   "outputs": [
    {
     "name": "stdout",
     "output_type": "stream",
     "text": [
      "8823\n",
      "2206\n",
      "11029\n"
     ]
    }
   ],
   "source": [
    "indice_80=int(len(X)*0.8)\n",
    "Y_train=Y[0:indice_80]\n",
    "Y_test=Y[indice_80:len(X)]\n",
    "\n",
    "print(len(Y_train))\n",
    "print(len(Y_test))\n",
    "print(len(Y))"
   ]
  },
  {
   "cell_type": "markdown",
   "metadata": {},
   "source": [
    "9) Transponga la matriz ‘X’. Tenga en cuenta que si transpone antes de la escala lineal no\n",
    "seguirá obteniendo el mismo resultado en los Ejercicios 5, 6, 7 y 8."
   ]
  }
 ],
 "metadata": {
  "kernelspec": {
   "display_name": "Python 3 (ipykernel)",
   "language": "python",
   "name": "python3"
  },
  "language_info": {
   "codemirror_mode": {
    "name": "ipython",
    "version": 3
   },
   "file_extension": ".py",
   "mimetype": "text/x-python",
   "name": "python",
   "nbconvert_exporter": "python",
   "pygments_lexer": "ipython3",
   "version": "3.7.7"
  }
 },
 "nbformat": 4,
 "nbformat_minor": 4
}
