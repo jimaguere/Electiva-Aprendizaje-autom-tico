{
 "cells": [
  {
   "cell_type": "markdown",
   "metadata": {},
   "source": [
    "# Árboles de decisión"
   ]
  },
  {
   "cell_type": "code",
   "execution_count": 122,
   "metadata": {},
   "outputs": [
    {
     "data": {
      "text/html": [
       "<div>\n",
       "<style scoped>\n",
       "    .dataframe tbody tr th:only-of-type {\n",
       "        vertical-align: middle;\n",
       "    }\n",
       "\n",
       "    .dataframe tbody tr th {\n",
       "        vertical-align: top;\n",
       "    }\n",
       "\n",
       "    .dataframe thead th {\n",
       "        text-align: right;\n",
       "    }\n",
       "</style>\n",
       "<table border=\"1\" class=\"dataframe\">\n",
       "  <thead>\n",
       "    <tr style=\"text-align: right;\">\n",
       "      <th></th>\n",
       "      <th>caso</th>\n",
       "      <th>edad</th>\n",
       "      <th>genero</th>\n",
       "      <th>depresion</th>\n",
       "      <th>embarazada</th>\n",
       "      <th>cirugía_de_tiroides</th>\n",
       "      <th>nivel_TSH</th>\n",
       "      <th>nivel_T3</th>\n",
       "      <th>nivel_TT4</th>\n",
       "      <th>nivel_T4U</th>\n",
       "      <th>nivel_FTI</th>\n",
       "      <th>clase</th>\n",
       "    </tr>\n",
       "  </thead>\n",
       "  <tbody>\n",
       "    <tr>\n",
       "      <th>0</th>\n",
       "      <td>1</td>\n",
       "      <td>56</td>\n",
       "      <td>F</td>\n",
       "      <td>NO</td>\n",
       "      <td>NO</td>\n",
       "      <td>NO</td>\n",
       "      <td>1.900</td>\n",
       "      <td>2.044</td>\n",
       "      <td>129.00</td>\n",
       "      <td>1.0500</td>\n",
       "      <td>123.00</td>\n",
       "      <td>0</td>\n",
       "    </tr>\n",
       "    <tr>\n",
       "      <th>1</th>\n",
       "      <td>2</td>\n",
       "      <td>51</td>\n",
       "      <td>F</td>\n",
       "      <td>NO</td>\n",
       "      <td>NO</td>\n",
       "      <td>NO</td>\n",
       "      <td>0.250</td>\n",
       "      <td>1.900</td>\n",
       "      <td>101.00</td>\n",
       "      <td>1.0800</td>\n",
       "      <td>94.00</td>\n",
       "      <td>0</td>\n",
       "    </tr>\n",
       "    <tr>\n",
       "      <th>2</th>\n",
       "      <td>3</td>\n",
       "      <td>50</td>\n",
       "      <td>F</td>\n",
       "      <td>NO</td>\n",
       "      <td>NO</td>\n",
       "      <td>NO</td>\n",
       "      <td>2.000</td>\n",
       "      <td>2.500</td>\n",
       "      <td>133.00</td>\n",
       "      <td>1.0800</td>\n",
       "      <td>123.00</td>\n",
       "      <td>0</td>\n",
       "    </tr>\n",
       "    <tr>\n",
       "      <th>3</th>\n",
       "      <td>4</td>\n",
       "      <td>73</td>\n",
       "      <td>M</td>\n",
       "      <td>NO</td>\n",
       "      <td>NO</td>\n",
       "      <td>NO</td>\n",
       "      <td>1.800</td>\n",
       "      <td>2.100</td>\n",
       "      <td>103.00</td>\n",
       "      <td>0.9200</td>\n",
       "      <td>112.00</td>\n",
       "      <td>0</td>\n",
       "    </tr>\n",
       "    <tr>\n",
       "      <th>4</th>\n",
       "      <td>5</td>\n",
       "      <td>56</td>\n",
       "      <td>F</td>\n",
       "      <td>NO</td>\n",
       "      <td>NO</td>\n",
       "      <td>NO</td>\n",
       "      <td>3.774</td>\n",
       "      <td>3.900</td>\n",
       "      <td>141.00</td>\n",
       "      <td>1.1200</td>\n",
       "      <td>126.00</td>\n",
       "      <td>0</td>\n",
       "    </tr>\n",
       "    <tr>\n",
       "      <th>5</th>\n",
       "      <td>6</td>\n",
       "      <td>44</td>\n",
       "      <td>M</td>\n",
       "      <td>NO</td>\n",
       "      <td>NO</td>\n",
       "      <td>NO</td>\n",
       "      <td>1.900</td>\n",
       "      <td>2.200</td>\n",
       "      <td>103.00</td>\n",
       "      <td>1.2000</td>\n",
       "      <td>86.00</td>\n",
       "      <td>0</td>\n",
       "    </tr>\n",
       "    <tr>\n",
       "      <th>6</th>\n",
       "      <td>7</td>\n",
       "      <td>24</td>\n",
       "      <td>F</td>\n",
       "      <td>NO</td>\n",
       "      <td>NO</td>\n",
       "      <td>NO</td>\n",
       "      <td>1.700</td>\n",
       "      <td>2.400</td>\n",
       "      <td>126.00</td>\n",
       "      <td>0.9200</td>\n",
       "      <td>136.00</td>\n",
       "      <td>0</td>\n",
       "    </tr>\n",
       "    <tr>\n",
       "      <th>7</th>\n",
       "      <td>8</td>\n",
       "      <td>40</td>\n",
       "      <td>M</td>\n",
       "      <td>NO</td>\n",
       "      <td>NO</td>\n",
       "      <td>NO</td>\n",
       "      <td>0.250</td>\n",
       "      <td>2.300</td>\n",
       "      <td>134.00</td>\n",
       "      <td>0.8400</td>\n",
       "      <td>160.00</td>\n",
       "      <td>0</td>\n",
       "    </tr>\n",
       "    <tr>\n",
       "      <th>8</th>\n",
       "      <td>9</td>\n",
       "      <td>81</td>\n",
       "      <td>M</td>\n",
       "      <td>NO</td>\n",
       "      <td>NO</td>\n",
       "      <td>NO</td>\n",
       "      <td>1.300</td>\n",
       "      <td>1.200</td>\n",
       "      <td>147.00</td>\n",
       "      <td>1.0600</td>\n",
       "      <td>138.00</td>\n",
       "      <td>0</td>\n",
       "    </tr>\n",
       "    <tr>\n",
       "      <th>9</th>\n",
       "      <td>10</td>\n",
       "      <td>53</td>\n",
       "      <td>F</td>\n",
       "      <td>NO</td>\n",
       "      <td>NO</td>\n",
       "      <td>NO</td>\n",
       "      <td>0.850</td>\n",
       "      <td>2.000</td>\n",
       "      <td>103.00</td>\n",
       "      <td>0.9300</td>\n",
       "      <td>111.00</td>\n",
       "      <td>0</td>\n",
       "    </tr>\n",
       "    <tr>\n",
       "      <th>10</th>\n",
       "      <td>11</td>\n",
       "      <td>36</td>\n",
       "      <td>M</td>\n",
       "      <td>NO</td>\n",
       "      <td>NO</td>\n",
       "      <td>NO</td>\n",
       "      <td>1.700</td>\n",
       "      <td>2.600</td>\n",
       "      <td>129.00</td>\n",
       "      <td>1.1800</td>\n",
       "      <td>109.00</td>\n",
       "      <td>0</td>\n",
       "    </tr>\n",
       "    <tr>\n",
       "      <th>11</th>\n",
       "      <td>12</td>\n",
       "      <td>35</td>\n",
       "      <td>F</td>\n",
       "      <td>NO</td>\n",
       "      <td>NO</td>\n",
       "      <td>NO</td>\n",
       "      <td>1.200</td>\n",
       "      <td>2.000</td>\n",
       "      <td>89.00</td>\n",
       "      <td>0.9923</td>\n",
       "      <td>110.89</td>\n",
       "      <td>0</td>\n",
       "    </tr>\n",
       "    <tr>\n",
       "      <th>12</th>\n",
       "      <td>13</td>\n",
       "      <td>25</td>\n",
       "      <td>F</td>\n",
       "      <td>NO</td>\n",
       "      <td>NO</td>\n",
       "      <td>NO</td>\n",
       "      <td>1.500</td>\n",
       "      <td>2.100</td>\n",
       "      <td>133.00</td>\n",
       "      <td>0.9923</td>\n",
       "      <td>110.89</td>\n",
       "      <td>0</td>\n",
       "    </tr>\n",
       "    <tr>\n",
       "      <th>13</th>\n",
       "      <td>15</td>\n",
       "      <td>29</td>\n",
       "      <td>F</td>\n",
       "      <td>NO</td>\n",
       "      <td>NO</td>\n",
       "      <td>NO</td>\n",
       "      <td>2.100</td>\n",
       "      <td>2.200</td>\n",
       "      <td>101.00</td>\n",
       "      <td>0.7900</td>\n",
       "      <td>129.00</td>\n",
       "      <td>0</td>\n",
       "    </tr>\n",
       "    <tr>\n",
       "      <th>14</th>\n",
       "      <td>16</td>\n",
       "      <td>71</td>\n",
       "      <td>F</td>\n",
       "      <td>NO</td>\n",
       "      <td>NO</td>\n",
       "      <td>NO</td>\n",
       "      <td>0.920</td>\n",
       "      <td>2.100</td>\n",
       "      <td>84.00</td>\n",
       "      <td>0.8600</td>\n",
       "      <td>98.00</td>\n",
       "      <td>0</td>\n",
       "    </tr>\n",
       "    <tr>\n",
       "      <th>15</th>\n",
       "      <td>17</td>\n",
       "      <td>80</td>\n",
       "      <td>F</td>\n",
       "      <td>NO</td>\n",
       "      <td>NO</td>\n",
       "      <td>NO</td>\n",
       "      <td>0.005</td>\n",
       "      <td>2.700</td>\n",
       "      <td>101.00</td>\n",
       "      <td>0.8400</td>\n",
       "      <td>121.00</td>\n",
       "      <td>0</td>\n",
       "    </tr>\n",
       "    <tr>\n",
       "      <th>16</th>\n",
       "      <td>18</td>\n",
       "      <td>24</td>\n",
       "      <td>F</td>\n",
       "      <td>NO</td>\n",
       "      <td>NO</td>\n",
       "      <td>NO</td>\n",
       "      <td>0.380</td>\n",
       "      <td>2.300</td>\n",
       "      <td>152.00</td>\n",
       "      <td>0.9600</td>\n",
       "      <td>158.00</td>\n",
       "      <td>0</td>\n",
       "    </tr>\n",
       "    <tr>\n",
       "      <th>17</th>\n",
       "      <td>19</td>\n",
       "      <td>88</td>\n",
       "      <td>F</td>\n",
       "      <td>NO</td>\n",
       "      <td>NO</td>\n",
       "      <td>NO</td>\n",
       "      <td>13.000</td>\n",
       "      <td>2.044</td>\n",
       "      <td>123.00</td>\n",
       "      <td>0.9900</td>\n",
       "      <td>124.00</td>\n",
       "      <td>0</td>\n",
       "    </tr>\n",
       "    <tr>\n",
       "      <th>18</th>\n",
       "      <td>20</td>\n",
       "      <td>22</td>\n",
       "      <td>F</td>\n",
       "      <td>NO</td>\n",
       "      <td>NO</td>\n",
       "      <td>NO</td>\n",
       "      <td>1.000</td>\n",
       "      <td>2.700</td>\n",
       "      <td>150.00</td>\n",
       "      <td>1.2200</td>\n",
       "      <td>124.00</td>\n",
       "      <td>0</td>\n",
       "    </tr>\n",
       "    <tr>\n",
       "      <th>19</th>\n",
       "      <td>21</td>\n",
       "      <td>57</td>\n",
       "      <td>F</td>\n",
       "      <td>NO</td>\n",
       "      <td>NO</td>\n",
       "      <td>NO</td>\n",
       "      <td>3.774</td>\n",
       "      <td>2.044</td>\n",
       "      <td>108.33</td>\n",
       "      <td>0.9923</td>\n",
       "      <td>110.89</td>\n",
       "      <td>0</td>\n",
       "    </tr>\n",
       "  </tbody>\n",
       "</table>\n",
       "</div>"
      ],
      "text/plain": [
       "    caso  edad genero depresion embarazada cirugía_de_tiroides  nivel_TSH  \\\n",
       "0      1    56      F        NO         NO                  NO      1.900   \n",
       "1      2    51      F        NO         NO                  NO      0.250   \n",
       "2      3    50      F        NO         NO                  NO      2.000   \n",
       "3      4    73      M        NO         NO                  NO      1.800   \n",
       "4      5    56      F        NO         NO                  NO      3.774   \n",
       "5      6    44      M        NO         NO                  NO      1.900   \n",
       "6      7    24      F        NO         NO                  NO      1.700   \n",
       "7      8    40      M        NO         NO                  NO      0.250   \n",
       "8      9    81      M        NO         NO                  NO      1.300   \n",
       "9     10    53      F        NO         NO                  NO      0.850   \n",
       "10    11    36      M        NO         NO                  NO      1.700   \n",
       "11    12    35      F        NO         NO                  NO      1.200   \n",
       "12    13    25      F        NO         NO                  NO      1.500   \n",
       "13    15    29      F        NO         NO                  NO      2.100   \n",
       "14    16    71      F        NO         NO                  NO      0.920   \n",
       "15    17    80      F        NO         NO                  NO      0.005   \n",
       "16    18    24      F        NO         NO                  NO      0.380   \n",
       "17    19    88      F        NO         NO                  NO     13.000   \n",
       "18    20    22      F        NO         NO                  NO      1.000   \n",
       "19    21    57      F        NO         NO                  NO      3.774   \n",
       "\n",
       "    nivel_T3  nivel_TT4  nivel_T4U  nivel_FTI  clase  \n",
       "0      2.044     129.00     1.0500     123.00      0  \n",
       "1      1.900     101.00     1.0800      94.00      0  \n",
       "2      2.500     133.00     1.0800     123.00      0  \n",
       "3      2.100     103.00     0.9200     112.00      0  \n",
       "4      3.900     141.00     1.1200     126.00      0  \n",
       "5      2.200     103.00     1.2000      86.00      0  \n",
       "6      2.400     126.00     0.9200     136.00      0  \n",
       "7      2.300     134.00     0.8400     160.00      0  \n",
       "8      1.200     147.00     1.0600     138.00      0  \n",
       "9      2.000     103.00     0.9300     111.00      0  \n",
       "10     2.600     129.00     1.1800     109.00      0  \n",
       "11     2.000      89.00     0.9923     110.89      0  \n",
       "12     2.100     133.00     0.9923     110.89      0  \n",
       "13     2.200     101.00     0.7900     129.00      0  \n",
       "14     2.100      84.00     0.8600      98.00      0  \n",
       "15     2.700     101.00     0.8400     121.00      0  \n",
       "16     2.300     152.00     0.9600     158.00      0  \n",
       "17     2.044     123.00     0.9900     124.00      0  \n",
       "18     2.700     150.00     1.2200     124.00      0  \n",
       "19     2.044     108.33     0.9923     110.89      0  "
      ]
     },
     "execution_count": 122,
     "metadata": {},
     "output_type": "execute_result"
    }
   ],
   "source": [
    "import pandas as pd\n",
    "import matplotlib.pyplot as plt\n",
    "datos=pd.read_csv(\"./Sick_pacientes.txt\",sep=\";\")\n",
    "datos.head(20)"
   ]
  },
  {
   "cell_type": "markdown",
   "metadata": {},
   "source": [
    "1.\t Separe la variable clase a predecir en una variable Y.\n",
    "2.\t Separe un conjunto de datos denominado X que no contenga la variable clase."
   ]
  },
  {
   "cell_type": "code",
   "execution_count": 123,
   "metadata": {},
   "outputs": [],
   "source": [
    "Y=datos['clase']\n",
    "X=datos.drop(columns=['clase'])"
   ]
  },
  {
   "cell_type": "markdown",
   "metadata": {},
   "source": [
    "3.\t Transforme las variables categóricas de X a dummies."
   ]
  },
  {
   "cell_type": "code",
   "execution_count": 124,
   "metadata": {},
   "outputs": [],
   "source": [
    "X_dummies=pd.get_dummies(X,drop_first=True)"
   ]
  },
  {
   "cell_type": "markdown",
   "metadata": {},
   "source": [
    "4.\t Separe las poblaciones en entrenamiento y validación en forma aleatoria en 70/30 (genere una semilla aleatoria e indique el valor de la semilla que utilizó). Indique que cantidad de casos quedaron para cada ambiente)."
   ]
  },
  {
   "cell_type": "code",
   "execution_count": 125,
   "metadata": {},
   "outputs": [
    {
     "name": "stdout",
     "output_type": "stream",
     "text": [
      "Total ejemplos train 668.\n",
      "Total ejemplos test 287.\n",
      "Enfermos train: 35\n",
      "No Enfermos train: 633\n",
      "Enfermos test: 13\n",
      "No Enfermos test 274\n"
     ]
    }
   ],
   "source": [
    "# Import train_test_split\n",
    "from sklearn.model_selection import train_test_split\n",
    "\n",
    "# Split the 'features' and 'income' data into training and testing sets\n",
    "X_train, X_test, y_train, y_test = train_test_split(X_dummies, \n",
    "                                                    Y, \n",
    "                                                    test_size = 0.3, \n",
    "                                                    random_state = 0)\n",
    "# Show the results of the split\n",
    "print(\"Total ejemplos train {}.\".format(X_train.shape[0]))\n",
    "print(\"Total ejemplos test {}.\".format(X_test.shape[0]))\n",
    "\n",
    "\n",
    "print(\"Enfermos train:\",y_train[y_train==1].count())\n",
    "print(\"No Enfermos train:\",y_train[y_train==0].count())\n",
    "\n",
    "print(\"Enfermos test:\",y_test[y_test==1].count())\n",
    "print(\"No Enfermos test\",y_test[y_test==0].count())"
   ]
  },
  {
   "cell_type": "markdown",
   "metadata": {},
   "source": [
    "5.\t Ajuste 3 árboles de decisión de diferentes profundidades (max_depth) usando el conjunto de entrenamiento 70%."
   ]
  },
  {
   "cell_type": "code",
   "execution_count": 126,
   "metadata": {},
   "outputs": [
    {
     "data": {
      "text/plain": [
       "DecisionTreeClassifier(criterion='entropy', max_depth=4, min_samples_leaf=10)"
      ]
     },
     "execution_count": 126,
     "metadata": {},
     "output_type": "execute_result"
    }
   ],
   "source": [
    "from sklearn import tree\n",
    "\n",
    "# Crear Arbol de decision con profundidad = 4\n",
    "modelo1 = tree.DecisionTreeClassifier(criterion='entropy',\n",
    "                                            min_samples_leaf=10,\n",
    "                                            max_depth = 4\n",
    "                                           )\n",
    "modelo1.fit(X_train, y_train)"
   ]
  },
  {
   "cell_type": "code",
   "execution_count": 127,
   "metadata": {},
   "outputs": [
    {
     "name": "stdout",
     "output_type": "stream",
     "text": [
      "4\n",
      "7\n"
     ]
    }
   ],
   "source": [
    "print(modelo1.get_depth())\n",
    "print(modelo1.get_n_leaves())"
   ]
  },
  {
   "cell_type": "code",
   "execution_count": 128,
   "metadata": {},
   "outputs": [
    {
     "data": {
      "text/plain": [
       "DecisionTreeClassifier(criterion='entropy', max_depth=10)"
      ]
     },
     "execution_count": 128,
     "metadata": {},
     "output_type": "execute_result"
    }
   ],
   "source": [
    "# Crear Arbol de decision con profundidad = 10\n",
    "modelo2 = tree.DecisionTreeClassifier(criterion='entropy',\n",
    "                                            #min_samples_split=100,\n",
    "                                            #min_samples_leaf=10,\n",
    "                                            max_depth = 10\n",
    "                                           )\n",
    "modelo2.fit(X_train, y_train)"
   ]
  },
  {
   "cell_type": "code",
   "execution_count": 129,
   "metadata": {},
   "outputs": [
    {
     "data": {
      "text/plain": [
       "DecisionTreeClassifier(ccp_alpha=0.01, criterion='entropy')"
      ]
     },
     "execution_count": 129,
     "metadata": {},
     "output_type": "execute_result"
    }
   ],
   "source": [
    "# Crear Arbol de decision con profundidad = 4\n",
    "modelo3 = tree.DecisionTreeClassifier(criterion='entropy',\n",
    "                                             ccp_alpha=0.01\n",
    "      )\n",
    "modelo3.fit(X_train, y_train)"
   ]
  },
  {
   "cell_type": "code",
   "execution_count": 130,
   "metadata": {},
   "outputs": [
    {
     "data": {
      "text/plain": [
       "3"
      ]
     },
     "execution_count": 130,
     "metadata": {},
     "output_type": "execute_result"
    }
   ],
   "source": [
    "modelo3.get_depth()"
   ]
  },
  {
   "cell_type": "markdown",
   "metadata": {},
   "source": [
    "6.\tSeleccione el mejor modelo con la métrica accuracy_balanced  variando los parámetros e iterando cada uno de ellos sobre el método de validación cruzada kfold=5 en el set de entrenamiento."
   ]
  },
  {
   "cell_type": "code",
   "execution_count": 132,
   "metadata": {},
   "outputs": [],
   "source": [
    "from sklearn.metrics import confusion_matrix\n",
    "from sklearn.metrics import accuracy_score,precision_score, balanced_accuracy_score,f1_score\n",
    "\n",
    "\n",
    "def _score_func(estimator, X, y):\n",
    "    y_pred_test = estimator.predict(X)\n",
    "    return balanced_accuracy_score(y, y_pred_test)\n",
    "\n",
    "class Class_Fit(object):\n",
    "    def __init__(self, clf, params=None):\n",
    "        if params:            \n",
    "            self.clf = clf(**params)\n",
    "        else:\n",
    "            self.clf = clf()\n",
    "\n",
    "    def train(self, x_train, y_train):\n",
    "        self.clf.fit(x_train, y_train)\n",
    "\n",
    "    def predict(self, x):\n",
    "        return self.clf.predict(x)\n",
    "    \n",
    "    def grid_search(self, parameters, Kfold):\n",
    "        self.grid = GridSearchCV(estimator = self.clf, param_grid = parameters, cv = Kfold,scoring=_score_func)\n",
    "        \n",
    "    def grid_fit(self, X, Y):\n",
    "        self.grid.fit(X, Y)\n",
    "        \n",
    "    def grid_predict(self, X, Y):\n",
    "        self.predictions = self.grid.predict(X)\n",
    "        print(\"Precision: {:.2f} % \".format(100*metrics.balanced_accuracy_score(Y, self.predictions)))\n",
    "from sklearn.model_selection import GridSearchCV"
   ]
  },
  {
   "cell_type": "code",
   "execution_count": 138,
   "metadata": {},
   "outputs": [
    {
     "name": "stdout",
     "output_type": "stream",
     "text": [
      "Parámetros árbol: {'ccp_alpha': 0.05, 'criterion': 'entropy'}\n",
      "Wall time: 490 ms\n"
     ]
    }
   ],
   "source": [
    "%%time\n",
    "gb = Class_Fit(clf = tree.DecisionTreeClassifier)\n",
    "param_grid = {\n",
    "             'criterion':['entropy'],\n",
    "             'ccp_alpha':[0,0.0025,0.0050,0.0075,0.008,0.0085,0.01,0.05],\n",
    "             }\n",
    "\n",
    "\n",
    "gb.grid_search(parameters = param_grid, Kfold = 10)\n",
    "gb.grid_fit(X = X_train, Y = y_train)\n",
    "\n",
    "print(\"Parámetros árbol:\",gb.grid.best_params_)\n",
    "mejor_arbol=gb.grid.best_estimator_"
   ]
  },
  {
   "cell_type": "code",
   "execution_count": 135,
   "metadata": {},
   "outputs": [
    {
     "data": {
      "text/plain": [
       "DecisionTreeClassifier(ccp_alpha=0.05, criterion='entropy')"
      ]
     },
     "execution_count": 135,
     "metadata": {},
     "output_type": "execute_result"
    }
   ],
   "source": [
    "params=  {'ccp_alpha': 0.05, 'criterion': 'entropy'}\n",
    "modelo4=  tree.DecisionTreeClassifier(**params)\n",
    "modelo4.fit(X_train, y_train)"
   ]
  },
  {
   "cell_type": "code",
   "execution_count": 119,
   "metadata": {},
   "outputs": [
    {
     "data": {
      "text/plain": [
       "GridSearchCV(cv=10, estimator=DecisionTreeClassifier(),\n",
       "             param_grid={'ccp_alpha': [0, 0.0025, 0.005, 0.0075, 0.008, 0.0085,\n",
       "                                       0.01, 0.05],\n",
       "                         'criterion': ['entropy']},\n",
       "             scoring=<function _score_func at 0x000001D8BF614C10>)"
      ]
     },
     "execution_count": 119,
     "metadata": {},
     "output_type": "execute_result"
    }
   ],
   "source": [
    "gb.grid"
   ]
  },
  {
   "cell_type": "markdown",
   "metadata": {},
   "source": [
    "7.\t Grafique los árboles "
   ]
  },
  {
   "cell_type": "code",
   "execution_count": 137,
   "metadata": {},
   "outputs": [
    {
     "data": {
      "image/png": "[encoded data removed]",
      "text/plain": [
       "<IPython.core.display.Image object>"
      ]
     },
     "execution_count": 137,
     "metadata": {},
     "output_type": "execute_result"
    }
   ],
   "source": [
    "import os\n",
    "from six import StringIO \n",
    "#conda install -c conda-forge pydotplus\n",
    "os.environ['PATH'] = os.environ['PATH']+';'+os.environ['CONDA_PREFIX']+r\"\\Library\\bin\\graphviz\"\n",
    "\n",
    "#https://graphviz.org/download/\n",
    "#conda install -c anaconda graphviz\n",
    "#conda install python-graphviz\n",
    "#pip install graphviz\n",
    "#pip install pydotplus\n",
    "#from sklearn.externals.six import StringIO \n",
    "# from six import StringIO\n",
    "from sklearn.tree import export_graphviz\n",
    "import pydotplus\n",
    "from IPython.display import Image \n",
    "\n",
    "dot_data = StringIO()\n",
    "\n",
    "feature_cols=X_train.columns\n",
    "export_graphviz(modelo1, out_file=dot_data,  \n",
    "                filled=True, rounded=True,\n",
    "                special_characters=True,feature_names = feature_cols,class_names=['No Enfermo','Enfermo'])\n",
    "\n",
    "graph = pydotplus.graph_from_dot_data(dot_data.getvalue())  \n",
    "graph.write_png('arbol.png')\n",
    "Image(graph.create_png())"
   ]
  },
  {
   "cell_type": "markdown",
   "metadata": {},
   "source": [
    "8.\tCalcular la precisión, recall, accuracy y accuracy_balanced en los ambientes de entrenamiento y validación de cada modelo."
   ]
  },
  {
   "cell_type": "code",
   "execution_count": 121,
   "metadata": {},
   "outputs": [
    {
     "name": "stdout",
     "output_type": "stream",
     "text": [
      "_________________________________________\n",
      "Modelo 1\n",
      "accuracy test: 0.9895470383275261\n",
      "accuracy train: 0.9820359281437125\n",
      "Balanced_accuracy test: 0.9212521055586749\n",
      "Balanced_accuracy train: 0.9365380275332882\n",
      "              precision    recall  f1-score   support\n",
      "\n",
      "           0       0.99      1.00      0.99       274\n",
      "           1       0.92      0.85      0.88        13\n",
      "\n",
      "    accuracy                           0.99       287\n",
      "   macro avg       0.95      0.92      0.94       287\n",
      "weighted avg       0.99      0.99      0.99       287\n",
      "\n",
      "_________________________________________\n",
      "Modelo 2\n",
      "accuracy test: 0.9895470383275261\n",
      "accuracy train: 0.9910179640718563\n",
      "Balanced_accuracy test: 0.8846153846153846\n",
      "Balanced_accuracy train: 0.9142857142857144\n",
      "              precision    recall  f1-score   support\n",
      "\n",
      "           0       0.99      1.00      0.99       274\n",
      "           1       1.00      0.77      0.87        13\n",
      "\n",
      "    accuracy                           0.99       287\n",
      "   macro avg       0.99      0.88      0.93       287\n",
      "weighted avg       0.99      0.99      0.99       287\n",
      "\n",
      "_________________________________________\n",
      "Modelo 3\n",
      "accuracy test: 0.9860627177700348\n",
      "accuracy train: 0.9850299401197605\n",
      "Balanced_accuracy test: 0.8461538461538461\n",
      "Balanced_accuracy train: 0.8841345068833221\n",
      "              precision    recall  f1-score   support\n",
      "\n",
      "           0       0.99      1.00      0.99       274\n",
      "           1       1.00      0.69      0.82        13\n",
      "\n",
      "    accuracy                           0.99       287\n",
      "   macro avg       0.99      0.85      0.91       287\n",
      "weighted avg       0.99      0.99      0.98       287\n",
      "\n",
      "_________________________________________\n",
      "Modelo 4\n",
      "accuracy test: 0.9721254355400697\n",
      "accuracy train: 0.9715568862275449\n",
      "Balanced_accuracy test: 0.912128017967434\n",
      "Balanced_accuracy train: 0.9445046264951478\n",
      "              precision    recall  f1-score   support\n",
      "\n",
      "           0       0.99      0.98      0.99       274\n",
      "           1       0.65      0.85      0.73        13\n",
      "\n",
      "    accuracy                           0.97       287\n",
      "   macro avg       0.82      0.91      0.86       287\n",
      "weighted avg       0.98      0.97      0.97       287\n",
      "\n",
      "_________________________________________\n"
     ]
    }
   ],
   "source": [
    "from sklearn import metrics\n",
    "from sklearn.metrics import accuracy_score,precision_score,classification_report,balanced_accuracy_score\n",
    "\n",
    "\n",
    "def eval_model(testData,trainingData,y_test,y_train,model):\n",
    "    predictions_test = model.predict(testData)\n",
    "    predictions_train = model.predict(trainingData)\n",
    "    # Select (prediction, true label) and compute test error\n",
    "    print(\"accuracy test:\",accuracy_score(y_test, predictions_test))\n",
    "    print(\"accuracy train:\",accuracy_score(y_train, predictions_train))\n",
    "    \n",
    "    print(\"Balanced_accuracy test:\",balanced_accuracy_score(y_test, predictions_test))\n",
    "    print(\"Balanced_accuracy train:\",balanced_accuracy_score(y_train, predictions_train))\n",
    "    \n",
    "    print(classification_report(y_test,predictions_test))\n",
    "      \n",
    "    return (balanced_accuracy_score(y_test, predictions_test))\n",
    "print(\"_________________________________________\")\n",
    "print(\"Modelo 1\")\n",
    "eval_model(X_test,X_train,y_test,y_train,modelo1)\n",
    "print(\"_________________________________________\")\n",
    "print(\"Modelo 2\")\n",
    "eval_model(X_test,X_train,y_test,y_train,modelo2)\n",
    "print(\"_________________________________________\")\n",
    "print(\"Modelo 3\")\n",
    "eval_model(X_test,X_train,y_test,y_train,modelo3)\n",
    "print(\"_________________________________________\")\n",
    "print(\"Modelo 4\")\n",
    "eval_model(X_test,X_train,y_test,y_train,modelo4)\n",
    "print(\"_________________________________________\")"
   ]
  },
  {
   "cell_type": "markdown",
   "metadata": {},
   "source": [
    "9.\tValidar las métricas con validación cruzada en cada modelo."
   ]
  },
  {
   "cell_type": "code",
   "execution_count": 38,
   "metadata": {},
   "outputs": [],
   "source": [
    "from sklearn.model_selection import StratifiedKFold\n",
    "\n",
    "def eval_model_alt(testData,trainingData,y_test,y_train,model):\n",
    "    predictions_test = model.predict(testData)\n",
    "    predictions_train = model.predict(trainingData)\n",
    "    return (balanced_accuracy_score(y_test, predictions_test))\n",
    "\n",
    "def validacion_cruzada(x_train,y_train,kfolds,model):\n",
    "    cv = StratifiedKFold(n_splits=kfolds,shuffle=False)\n",
    "    prom=[]\n",
    "    for train,test in cv.split(x_train,y_train):\n",
    "        modelo=model.fit(x_train.iloc[train],y_train.iloc[train])\n",
    "        prom.append(eval_model_alt(x_train.iloc[test],x_train.iloc[train] ,y_train.iloc[test],y_train.iloc[train],modelo))\n",
    "    return(prom)"
   ]
  },
  {
   "cell_type": "code",
   "execution_count": 39,
   "metadata": {},
   "outputs": [
    {
     "name": "stdout",
     "output_type": "stream",
     "text": [
      "[0.9972527472527473, 0.9416971916971917, 0.8972375690607735, 0.9472375690607735, 0.8389502762430938]\n"
     ]
    },
    {
     "data": {
      "text/plain": [
       "0.9244750706629159"
      ]
     },
     "execution_count": 39,
     "metadata": {},
     "output_type": "execute_result"
    }
   ],
   "source": [
    "#modelo1\n",
    "promM1=validacion_cruzada(X_dummies,Y,5,modelo1)\n",
    "print(promM1)\n",
    "sum(promM1)/len(promM1)"
   ]
  },
  {
   "cell_type": "code",
   "execution_count": 40,
   "metadata": {},
   "outputs": [
    {
     "name": "stdout",
     "output_type": "stream",
     "text": [
      "[0.9416971916971917, 0.9416971916971917, 0.894475138121547, 0.944475138121547, 0.55]\n"
     ]
    },
    {
     "data": {
      "text/plain": [
       "0.8544689319274955"
      ]
     },
     "execution_count": 40,
     "metadata": {},
     "output_type": "execute_result"
    }
   ],
   "source": [
    "#modelo2\n",
    "promM2=validacion_cruzada(X_dummies,Y,5,modelo2)\n",
    "print(promM2)\n",
    "sum(promM2)/len(promM2)"
   ]
  },
  {
   "cell_type": "code",
   "execution_count": 41,
   "metadata": {},
   "outputs": [
    {
     "name": "stdout",
     "output_type": "stream",
     "text": [
      "[0.9972527472527473, 0.9416971916971917, 0.8972375690607735, 0.9472375690607735, 0.55]\n"
     ]
    },
    {
     "data": {
      "text/plain": [
       "0.8666850154142972"
      ]
     },
     "execution_count": 41,
     "metadata": {},
     "output_type": "execute_result"
    }
   ],
   "source": [
    "#modelo3\n",
    "promM3=validacion_cruzada(X_dummies,Y,5,modelo3)\n",
    "print(promM3)\n",
    "sum(promM3)/len(promM3)"
   ]
  },
  {
   "cell_type": "code",
   "execution_count": 42,
   "metadata": {},
   "outputs": [
    {
     "name": "stdout",
     "output_type": "stream",
     "text": [
      "[0.9972527472527473, 0.9416971916971917, 0.8972375690607735, 0.9472375690607735, 0.8389502762430938]\n"
     ]
    },
    {
     "data": {
      "text/plain": [
       "0.9244750706629159"
      ]
     },
     "execution_count": 42,
     "metadata": {},
     "output_type": "execute_result"
    }
   ],
   "source": [
    "#modelo3\n",
    "promM4=validacion_cruzada(X_dummies,Y,5,modelo4)\n",
    "print(promM4)\n",
    "sum(promM4)/len(promM4)"
   ]
  },
  {
   "cell_type": "code",
   "execution_count": 18,
   "metadata": {},
   "outputs": [
    {
     "data": {
      "text/plain": [
       "DecisionTreeClassifier(criterion='entropy', max_depth=4, min_samples_leaf=10)"
      ]
     },
     "execution_count": 18,
     "metadata": {},
     "output_type": "execute_result"
    }
   ],
   "source": [
    "from sklearn import tree\n",
    "\n",
    "# Crear Arbol de decision con profundidad = 4\n",
    "modelo1 = tree.DecisionTreeClassifier(criterion='entropy',\n",
    "                                            #min_samples_split=100,\n",
    "                                            min_samples_leaf=10,\n",
    "                                            max_depth = 4\n",
    "                                           )\n",
    "modelo1.fit(X_train, y_train)"
   ]
  },
  {
   "cell_type": "code",
   "execution_count": 19,
   "metadata": {},
   "outputs": [],
   "source": [
    "import matplotlib.pyplot as plt\n",
    "import itertools\n",
    "from sklearn.metrics import confusion_matrix\n",
    "# Función para plot de la matriz de confusión\n",
    "def plot_confusion_matrix(cm, classes, normalize=False, title='Confusion matrix', cmap=plt.cm.Blues):\n",
    "    if normalize:\n",
    "        cm = cm.astype('float') / cm.sum(axis=1)[:, np.newaxis]\n",
    "        print(\"Normalized confusion matrix\")\n",
    "    else:\n",
    "        print('Confusion matrix, without normalization')\n",
    "    #_________________________________________________\n",
    "    plt.imshow(cm, interpolation='nearest', cmap=cmap)\n",
    "    plt.title(title)\n",
    "    plt.colorbar()\n",
    "    tick_marks = np.arange(len(classes))\n",
    "    plt.xticks(tick_marks, classes, rotation=0)\n",
    "    plt.yticks(tick_marks, classes)\n",
    "    #_________________________________________________\n",
    "    fmt = '.5f' if normalize else 'd'\n",
    "    thresh = cm.max() / 2.\n",
    "    for i, j in itertools.product(range(cm.shape[0]), range(cm.shape[1])):\n",
    "        plt.text(j, i, format(cm[i, j], fmt),\n",
    "                 horizontalalignment=\"center\",\n",
    "                 color=\"white\" if cm[i, j] > thresh else \"black\")\n",
    "    #_________________________________________________\n",
    "    plt.tight_layout()\n",
    "    plt.ylabel('Etiqueta Real')\n",
    "    plt.xlabel('Etiqueta Predicha')"
   ]
  },
  {
   "cell_type": "markdown",
   "metadata": {},
   "source": [
    "10.\tObtener la matriz de confusión tanto para el ambiente de entrenamiento como de Validación del mejor modelo."
   ]
  },
  {
   "cell_type": "code",
   "execution_count": 20,
   "metadata": {},
   "outputs": [
    {
     "name": "stdout",
     "output_type": "stream",
     "text": [
      "Confusion matrix, without normalization\n",
      "verdaderos positivos: 11\n",
      "verdaderos negativos: 274\n",
      "falsos positivos: 0\n",
      "falsos negativos: 2\n",
      "accuracy: 0.9930313588850174\n",
      "accuracy balanced: 0.9230769230769231\n"
     ]
    },
    {
     "data": {
      "image/png": "[encoded data removed]",
      "text/plain": [
       "<Figure size 1440x576 with 2 Axes>"
      ]
     },
     "metadata": {
      "needs_background": "light"
     },
     "output_type": "display_data"
    }
   ],
   "source": [
    "import numpy as np\n",
    "class_names = [i for i in range(2)]\n",
    "\n",
    "cnf_matrix = confusion_matrix(y_test, modelo1.predict(X_test)) \n",
    "np.set_printoptions(precision=2)\n",
    "plt.figure(figsize = (20,8))\n",
    "plot_confusion_matrix(cnf_matrix, classes=class_names, normalize = False, title='Matriz de Confusión test Modelo1')\n",
    "\n",
    "\n",
    "tn, fp, fn, tp = confusion_matrix(y_test,modelo1.predict(X_test)).ravel()\n",
    "\n",
    "print(\"verdaderos positivos:\",tp)\n",
    "print(\"verdaderos negativos:\",tn)\n",
    "print(\"falsos positivos:\",fp)\n",
    "print(\"falsos negativos:\",fn)\n",
    "\n",
    "accuracy=(tp+tn)/(tp+tn+fp+fn)\n",
    "print(\"accuracy:\",accuracy)\n",
    "accuracy_balanced=((tn/(tn+fp))+(tp/(tp+fn)))/2\n",
    "print(\"accuracy balanced:\",accuracy_balanced)"
   ]
  },
  {
   "cell_type": "code",
   "execution_count": 21,
   "metadata": {},
   "outputs": [
    {
     "name": "stdout",
     "output_type": "stream",
     "text": [
      "Confusion matrix, without normalization\n",
      "verdaderos positivos: 31\n",
      "verdaderos negativos: 627\n",
      "falsos positivos: 6\n",
      "falsos negativos: 4\n",
      "accuracy: 0.9850299401197605\n",
      "accuracy balanced: 0.9381178063642519\n"
     ]
    },
    {
     "data": {
      "image/png": "[encoded data removed]",
      "text/plain": [
       "<Figure size 1440x576 with 2 Axes>"
      ]
     },
     "metadata": {
      "needs_background": "light"
     },
     "output_type": "display_data"
    }
   ],
   "source": [
    "import numpy as np\n",
    "class_names = [i for i in range(2)]\n",
    "\n",
    "cnf_matrix = confusion_matrix(y_train, modelo1.predict(X_train)) \n",
    "np.set_printoptions(precision=2)\n",
    "plt.figure(figsize = (20,8))\n",
    "plot_confusion_matrix(cnf_matrix, classes=class_names, normalize = False, title='Matriz de Confusión train Modelo1')\n",
    "\n",
    "\n",
    "tn, fp, fn, tp = confusion_matrix(y_train,modelo1.predict(X_train)).ravel()\n",
    "\n",
    "print(\"verdaderos positivos:\",tp)\n",
    "print(\"verdaderos negativos:\",tn)\n",
    "print(\"falsos positivos:\",fp)\n",
    "print(\"falsos negativos:\",fn)\n",
    "\n",
    "accuracy=(tp+tn)/(tp+tn+fp+fn)\n",
    "print(\"accuracy:\",accuracy)\n",
    "accuracy_balanced=((tn/(tn+fp))+(tp/(tp+fn)))/2\n",
    "print(\"accuracy balanced:\",accuracy_balanced)"
   ]
  },
  {
   "cell_type": "markdown",
   "metadata": {},
   "source": [
    "11.\tSelecciones el 25% de los individuos en el ambiente de validación de acuerdo a la siguiente lógica. \n",
    "\n",
    "Entregue los resultados indicados: Al azar e indique la cantidad de individuos que están enfermos.\n",
    "\n",
    "Utilizando el mejor modelo desarrollado ordene los individuos de mayor a menor probabilidad de padecer la enfermedad, indique la cantidad de individuos que están enfermos."
   ]
  },
  {
   "cell_type": "code",
   "execution_count": 22,
   "metadata": {},
   "outputs": [
    {
     "name": "stdout",
     "output_type": "stream",
     "text": [
      "Total datos test: 287\n",
      "25% de los individuos en el ambiente de test: 71\n",
      "Cantidad de enfermos alzar 25% test: 6\n"
     ]
    }
   ],
   "source": [
    "n=len(y_test)\n",
    "\n",
    "\n",
    "n_25=(n*25)/100\n",
    "\n",
    "print(\"Total datos test:\",n)\n",
    "print(\"25% de los individuos en el ambiente de test:\",int(n_25))\n",
    "y_test_25=y_test.sample(int(n_25))\n",
    "print(\"Cantidad de enfermos alzar 25% test:\",y_test_25[y_test_25==1].count())\n",
    "#y_test.sample(n=25)"
   ]
  },
  {
   "cell_type": "code",
   "execution_count": 23,
   "metadata": {},
   "outputs": [
    {
     "data": {
      "text/html": [
       "<div>\n",
       "<style scoped>\n",
       "    .dataframe tbody tr th:only-of-type {\n",
       "        vertical-align: middle;\n",
       "    }\n",
       "\n",
       "    .dataframe tbody tr th {\n",
       "        vertical-align: top;\n",
       "    }\n",
       "\n",
       "    .dataframe thead th {\n",
       "        text-align: right;\n",
       "    }\n",
       "</style>\n",
       "<table border=\"1\" class=\"dataframe\">\n",
       "  <thead>\n",
       "    <tr style=\"text-align: right;\">\n",
       "      <th></th>\n",
       "      <th>caso</th>\n",
       "      <th>edad</th>\n",
       "      <th>nivel_TSH</th>\n",
       "      <th>nivel_T3</th>\n",
       "      <th>nivel_TT4</th>\n",
       "      <th>nivel_T4U</th>\n",
       "      <th>nivel_FTI</th>\n",
       "      <th>genero_M</th>\n",
       "      <th>depresion_SI</th>\n",
       "      <th>embarazada_SI</th>\n",
       "      <th>cirugía_de_tiroides_SI</th>\n",
       "      <th>predicho_prob_1</th>\n",
       "      <th>predicho_prob_0</th>\n",
       "      <th>predicho</th>\n",
       "      <th>real</th>\n",
       "    </tr>\n",
       "  </thead>\n",
       "  <tbody>\n",
       "    <tr>\n",
       "      <th>951</th>\n",
       "      <td>824</td>\n",
       "      <td>85</td>\n",
       "      <td>0.25</td>\n",
       "      <td>1.1</td>\n",
       "      <td>132.0</td>\n",
       "      <td>0.85</td>\n",
       "      <td>154.0</td>\n",
       "      <td>1</td>\n",
       "      <td>0</td>\n",
       "      <td>0</td>\n",
       "      <td>0</td>\n",
       "      <td>1.000000</td>\n",
       "      <td>0.000000</td>\n",
       "      <td>1</td>\n",
       "      <td>1</td>\n",
       "    </tr>\n",
       "    <tr>\n",
       "      <th>944</th>\n",
       "      <td>651</td>\n",
       "      <td>81</td>\n",
       "      <td>1.90</td>\n",
       "      <td>0.3</td>\n",
       "      <td>102.0</td>\n",
       "      <td>0.96</td>\n",
       "      <td>106.0</td>\n",
       "      <td>1</td>\n",
       "      <td>0</td>\n",
       "      <td>0</td>\n",
       "      <td>0</td>\n",
       "      <td>1.000000</td>\n",
       "      <td>0.000000</td>\n",
       "      <td>1</td>\n",
       "      <td>1</td>\n",
       "    </tr>\n",
       "    <tr>\n",
       "      <th>946</th>\n",
       "      <td>733</td>\n",
       "      <td>89</td>\n",
       "      <td>0.80</td>\n",
       "      <td>0.6</td>\n",
       "      <td>101.0</td>\n",
       "      <td>0.73</td>\n",
       "      <td>138.0</td>\n",
       "      <td>1</td>\n",
       "      <td>0</td>\n",
       "      <td>0</td>\n",
       "      <td>0</td>\n",
       "      <td>1.000000</td>\n",
       "      <td>0.000000</td>\n",
       "      <td>1</td>\n",
       "      <td>1</td>\n",
       "    </tr>\n",
       "    <tr>\n",
       "      <th>913</th>\n",
       "      <td>168</td>\n",
       "      <td>75</td>\n",
       "      <td>2.40</td>\n",
       "      <td>0.2</td>\n",
       "      <td>78.0</td>\n",
       "      <td>0.56</td>\n",
       "      <td>139.0</td>\n",
       "      <td>1</td>\n",
       "      <td>0</td>\n",
       "      <td>0</td>\n",
       "      <td>0</td>\n",
       "      <td>1.000000</td>\n",
       "      <td>0.000000</td>\n",
       "      <td>1</td>\n",
       "      <td>1</td>\n",
       "    </tr>\n",
       "    <tr>\n",
       "      <th>937</th>\n",
       "      <td>565</td>\n",
       "      <td>75</td>\n",
       "      <td>4.50</td>\n",
       "      <td>1.1</td>\n",
       "      <td>132.0</td>\n",
       "      <td>1.01</td>\n",
       "      <td>131.0</td>\n",
       "      <td>0</td>\n",
       "      <td>0</td>\n",
       "      <td>0</td>\n",
       "      <td>0</td>\n",
       "      <td>1.000000</td>\n",
       "      <td>0.000000</td>\n",
       "      <td>1</td>\n",
       "      <td>1</td>\n",
       "    </tr>\n",
       "    <tr>\n",
       "      <th>930</th>\n",
       "      <td>461</td>\n",
       "      <td>35</td>\n",
       "      <td>0.20</td>\n",
       "      <td>1.0</td>\n",
       "      <td>68.0</td>\n",
       "      <td>0.88</td>\n",
       "      <td>78.0</td>\n",
       "      <td>1</td>\n",
       "      <td>0</td>\n",
       "      <td>0</td>\n",
       "      <td>0</td>\n",
       "      <td>0.928571</td>\n",
       "      <td>0.071429</td>\n",
       "      <td>1</td>\n",
       "      <td>1</td>\n",
       "    </tr>\n",
       "    <tr>\n",
       "      <th>939</th>\n",
       "      <td>567</td>\n",
       "      <td>19</td>\n",
       "      <td>3.70</td>\n",
       "      <td>1.1</td>\n",
       "      <td>126.0</td>\n",
       "      <td>0.91</td>\n",
       "      <td>138.0</td>\n",
       "      <td>0</td>\n",
       "      <td>0</td>\n",
       "      <td>0</td>\n",
       "      <td>0</td>\n",
       "      <td>0.928571</td>\n",
       "      <td>0.071429</td>\n",
       "      <td>1</td>\n",
       "      <td>1</td>\n",
       "    </tr>\n",
       "    <tr>\n",
       "      <th>911</th>\n",
       "      <td>78</td>\n",
       "      <td>48</td>\n",
       "      <td>1.60</td>\n",
       "      <td>1.0</td>\n",
       "      <td>71.0</td>\n",
       "      <td>0.81</td>\n",
       "      <td>88.0</td>\n",
       "      <td>0</td>\n",
       "      <td>1</td>\n",
       "      <td>0</td>\n",
       "      <td>0</td>\n",
       "      <td>0.928571</td>\n",
       "      <td>0.071429</td>\n",
       "      <td>1</td>\n",
       "      <td>1</td>\n",
       "    </tr>\n",
       "    <tr>\n",
       "      <th>915</th>\n",
       "      <td>170</td>\n",
       "      <td>62</td>\n",
       "      <td>13.00</td>\n",
       "      <td>1.1</td>\n",
       "      <td>87.0</td>\n",
       "      <td>0.81</td>\n",
       "      <td>107.0</td>\n",
       "      <td>1</td>\n",
       "      <td>0</td>\n",
       "      <td>0</td>\n",
       "      <td>0</td>\n",
       "      <td>0.928571</td>\n",
       "      <td>0.071429</td>\n",
       "      <td>1</td>\n",
       "      <td>1</td>\n",
       "    </tr>\n",
       "    <tr>\n",
       "      <th>943</th>\n",
       "      <td>650</td>\n",
       "      <td>69</td>\n",
       "      <td>0.50</td>\n",
       "      <td>0.8</td>\n",
       "      <td>87.0</td>\n",
       "      <td>0.89</td>\n",
       "      <td>98.0</td>\n",
       "      <td>0</td>\n",
       "      <td>0</td>\n",
       "      <td>0</td>\n",
       "      <td>0</td>\n",
       "      <td>0.615385</td>\n",
       "      <td>0.384615</td>\n",
       "      <td>1</td>\n",
       "      <td>1</td>\n",
       "    </tr>\n",
       "  </tbody>\n",
       "</table>\n",
       "</div>"
      ],
      "text/plain": [
       "     caso  edad  nivel_TSH  nivel_T3  nivel_TT4  nivel_T4U  nivel_FTI  \\\n",
       "951   824    85       0.25       1.1      132.0       0.85      154.0   \n",
       "944   651    81       1.90       0.3      102.0       0.96      106.0   \n",
       "946   733    89       0.80       0.6      101.0       0.73      138.0   \n",
       "913   168    75       2.40       0.2       78.0       0.56      139.0   \n",
       "937   565    75       4.50       1.1      132.0       1.01      131.0   \n",
       "930   461    35       0.20       1.0       68.0       0.88       78.0   \n",
       "939   567    19       3.70       1.1      126.0       0.91      138.0   \n",
       "911    78    48       1.60       1.0       71.0       0.81       88.0   \n",
       "915   170    62      13.00       1.1       87.0       0.81      107.0   \n",
       "943   650    69       0.50       0.8       87.0       0.89       98.0   \n",
       "\n",
       "     genero_M  depresion_SI  embarazada_SI  cirugía_de_tiroides_SI  \\\n",
       "951         1             0              0                       0   \n",
       "944         1             0              0                       0   \n",
       "946         1             0              0                       0   \n",
       "913         1             0              0                       0   \n",
       "937         0             0              0                       0   \n",
       "930         1             0              0                       0   \n",
       "939         0             0              0                       0   \n",
       "911         0             1              0                       0   \n",
       "915         1             0              0                       0   \n",
       "943         0             0              0                       0   \n",
       "\n",
       "     predicho_prob_1  predicho_prob_0  predicho  real  \n",
       "951         1.000000         0.000000         1     1  \n",
       "944         1.000000         0.000000         1     1  \n",
       "946         1.000000         0.000000         1     1  \n",
       "913         1.000000         0.000000         1     1  \n",
       "937         1.000000         0.000000         1     1  \n",
       "930         0.928571         0.071429         1     1  \n",
       "939         0.928571         0.071429         1     1  \n",
       "911         0.928571         0.071429         1     1  \n",
       "915         0.928571         0.071429         1     1  \n",
       "943         0.615385         0.384615         1     1  "
      ]
     },
     "execution_count": 23,
     "metadata": {},
     "output_type": "execute_result"
    }
   ],
   "source": [
    "probs_test = modelo1.predict_proba(X_test)    \n",
    "y_pred_test= modelo1.predict(X_test)    \n",
    "\n",
    "data_set_test=X_test.copy()\n",
    "\n",
    "data_set_test['predicho_prob_1']=probs_test[:,1]\n",
    "data_set_test['predicho_prob_0']=probs_test[:,0]\n",
    "data_set_test['predicho']=y_pred_test\n",
    "data_set_test['real']=y_test\n",
    "\n",
    "data_set_test.sort_values(['predicho_prob_1'],ascending=[False]).head(10)"
   ]
  },
  {
   "cell_type": "code",
   "execution_count": 24,
   "metadata": {},
   "outputs": [
    {
     "name": "stdout",
     "output_type": "stream",
     "text": [
      "Cantidad de enfermos modelo 25% test 13\n",
      "Cantidad individuos modelo: 71\n",
      "Cantidad individuos alzar: 71\n"
     ]
    }
   ],
   "source": [
    "y_test_modelo=data_set_test.sort_values(['predicho_prob_1'], ascending=[False])[0:y_test_25.count()]\n",
    "print(\"Cantidad de enfermos modelo 25% test\",len(y_test_modelo[y_test_modelo['real'] == 1]))\n",
    "\n",
    "\n",
    "print(\"Cantidad individuos modelo:\",len(y_test_modelo))\n",
    "print(\"Cantidad individuos alzar:\",len(y_test_25))"
   ]
  }
 ],
 "metadata": {
  "kernelspec": {
   "display_name": "Python 3",
   "language": "python",
   "name": "python3"
  },
  "language_info": {
   "codemirror_mode": {
    "name": "ipython",
    "version": 3
   },
   "file_extension": ".py",
   "mimetype": "text/x-python",
   "name": "python",
   "nbconvert_exporter": "python",
   "pygments_lexer": "ipython3",
   "version": "3.8.8"
  }
 },
 "nbformat": 4,
 "nbformat_minor": 4
}
